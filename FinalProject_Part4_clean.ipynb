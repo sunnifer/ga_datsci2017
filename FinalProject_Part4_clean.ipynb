{
 "cells": [
  {
   "cell_type": "markdown",
   "metadata": {},
   "source": [
    "# Final Project, Part 4: Technical Notebook"
   ]
  },
  {
   "cell_type": "markdown",
   "metadata": {},
   "source": [
    "_**Requirements:** Statistical analysis, model, evaluation metrics; don't forget: sample size, correlations, feature importance, unexplained variance or outliers, variable selection, train/test comparison, relationships between target and independent variables._"
   ]
  },
  {
   "cell_type": "markdown",
   "metadata": {},
   "source": [
    "## Recap"
   ]
  },
  {
   "cell_type": "markdown",
   "metadata": {},
   "source": [
    "Out of the many features available for us to explore, exploratory data analysis led us to narrow the features down to the **six** below. Including all the available features introduced too much collinearity and each unique feature combination became too small to easily calculate any sort of statistical significance.\n",
    "\n",
    "By narrowing down the number of features examined, we are definitely leaving out interesting influences like _datetime_, _detailed content relevance_, _user demographics_. Unfortunately, these more interesting investigations will need to be left for a future time. \n",
    "\n",
    "With the features below, we can still identify valuable takeaways as which creative sizes, _which platforms (desktop or mobile)_, _which sites_, and _where on the page_ an ad is mostly likely to generate a click. \n",
    "\n",
    "|Creative||User||Context|\n",
    "|------||------||------|\n",
    "|Creative Size||Device Category||Ad Unit 1 (domain)|\n",
    "|Line Item Type||||Ad Unit 3 (placement)|\n",
    "|Advertiser/Order|||||\n",
    "\n",
    "Of the six features above, we also discovered **collinearity**. Namely, **Ad Unit 1** and **Ad Unit 3** both have **Device Category** confounded within them."
   ]
  },
  {
   "cell_type": "markdown",
   "metadata": {},
   "source": [
    "## Which Model?"
   ]
  },
  {
   "cell_type": "markdown",
   "metadata": {},
   "source": [
    "### Our Data"
   ]
  },
  {
   "cell_type": "markdown",
   "metadata": {},
   "source": [
    "- number of rows\n",
    "- average ctr\n",
    "\n",
    "Interesting characteristics:\n",
    "- binary results, click or no click\n",
    "- feature conjunction (it's often a combination of two feature values that make a difference, like Advertiser vs Ad Unit 1. Behr paints ad works better next to Paint content.)\n",
    "- Categorical variables (Ad Unit 1 has X unique values, with no hierarchical order.) \n",
    "\n",
    "Binary results indicate **Logistic Regression** class of models. "
   ]
  },
  {
   "cell_type": "markdown",
   "metadata": {},
   "source": [
    "### Industry Insights"
   ]
  },
  {
   "cell_type": "markdown",
   "metadata": {},
   "source": [
    "Fortunately for us, digital advertising is a lucrative __[$584 billion global business](http://www.dentsuaegisnetwork.com/media/dentsuaegisnetworknewsdetaila/2017/2017_06_15?Global-ad-spend-to-hit-5634-billion-in-2017-with-digital-driving-growth)__, so many smart people have already tried predicting CTR. \n",
    "\n",
    "#### __[\"Simple and scalable response prediction for display advertising\"](http://people.csail.mit.edu/romer/papers/TISTRespPredAds.pdf)__  (Chapelle, Manavoglu, Rosales; 2015)\n",
    "- **Methods:** Logistic Regression, Feature Hashing, Subsampling, L1 regularization\n",
    "- **Evaluation Metrics:** auROC\n",
    "\n",
    "#### __[\"Outbrain Click Prediction\"](http://cs229.stanford.edu/proj2016/report/JaiswalGopinathLimaye-OutbrainClickPrediction-report.pdf)__ (Limaye, Jaiswal, Gopinath; 2016)\n",
    "- **Methods:** One hot encoding, feature engineering for conjugate features, factorization machines, boosted trees model\n",
    "- **Evaluation Metrics:** MAP@12\n",
    "\n",
    "#### __[\"3 Idiots' Solution to 2014 Criteo Display Advertising Kaggle Challenge\"](https://www.kaggle.com/c/criteo-display-ad-challenge/discussion/10555)__\n",
    "- **Methods:** field-aware factorizatiom machines\n",
    "- **Evaluation Metrics:** MAP@12\n",
    "\n",
    "#### __[\"How Feature Engineering can help you do well in a Kaggle competition - Part I\"](https://medium.com/unstructured/how-feature-engineering-can-help-you-do-well-in-a-kaggle-competition-part-i-9cc9a883514d)__\n",
    "- **Methods:** One hot encoding, feature hashing, gradient boosted decision trees, logistic regression with Follow-the-Regularized-Leader (FTRL) optimizer, Field-aware Factorization Machines, Ensembling\n",
    "- **Evaluation Metrics:** MAP@12\n",
    "\n",
    "__[Other](https://www.slideshare.net/gabrielspmoreira/feature-engineering-getting-most-out-of-data-for-predictive-models)__ feature engineering options:\n",
    "- bin-counting\n",
    "- LabelCount encoding\n",
    "- Category embedding\n",
    "- Support Vector Machines (SVM) - new model\n"
   ]
  },
  {
   "cell_type": "markdown",
   "metadata": {},
   "source": [
    "### Initial Approach"
   ]
  },
  {
   "cell_type": "markdown",
   "metadata": {},
   "source": [
    "1. Set evaluation metrics.\n",
    "1. Split train/test data set.\n",
    "2. Set baseline \"model\".\n",
    "3. One-hot encoding/feature hashing.\n",
    "4. Logistic regression w/ FTRL optimization.\n",
    "5. Try Field-aware Factorization Machines. \n",
    "6. Try Ensembling."
   ]
  },
  {
   "cell_type": "markdown",
   "metadata": {},
   "source": [
    "***"
   ]
  },
  {
   "cell_type": "markdown",
   "metadata": {},
   "source": [
    "## Evaluation Metrics"
   ]
  },
  {
   "cell_type": "markdown",
   "metadata": {},
   "source": [
    "There are several evaluation metrics that can be used with logistic regression models. (MSE, R^2 and other regression metrics _aren't_ appropriate for this categorical classification model.)\n",
    "\n",
    "- <font color=blue>**Confusion Matrix**: We care about correctly predicting clicks and care less about predicting non-clicks (they don't make us money). We'd also rather err on the side of conservation and let a click pass than to predict a click that doesn't happen; it is better to underpromise and overdeliver on a CTR estimate to a client.</font>\n",
    "\n",
    "- **Mean Average Precision (MAP)**: New evaluation metric we haven't explored in class that is derived from the confusion matrix. \n",
    "\n",
    "- **Receiver Operating Characteristic (ROC) curve**: Graph of a model's sensitivity (true positive rate) against its specificity (true negative rate). The more convex the curve is, the better.\n",
    "\n",
    "- <font color=blue> **Area Under Curve (AUC)**: \"Area under the ROC curve\" - a way of quantifying the ROC. A poor classifier has an AUC of 0.5; the best ones have an AUC as close to 1 as possible.</font>\n",
    "\n",
    "- **Log Loss**: Quantifies unpredictability of your model. The goal is to minimize this value.\n",
    "\n",
    "Since several Kaggle competitions have used **MAP@12**, I will use this evaluation metric as well. However, I plan on playing around with optimizing by Log Loss and AUC, too, if they somehow lead to a better model.\n",
    "\n",
    "<p><font color=blue>_**EDIT:** I couldn't find an easy-to-implement MAP metric in sklearn, so went with sklearn's standard accuracy score instead. Secondarily, I also looked at **re-call** and **precision** in the confusion matrix._</font>"
   ]
  },
  {
   "cell_type": "markdown",
   "metadata": {},
   "source": [
    "<font color=blue>Creating a list to store all the accuracy, AUROC and recall scores.</font>"
   ]
  },
  {
   "cell_type": "code",
   "execution_count": 422,
   "metadata": {},
   "outputs": [],
   "source": [
    "final_scores = []"
   ]
  },
  {
   "cell_type": "code",
   "execution_count": 421,
   "metadata": {},
   "outputs": [],
   "source": [
    "def add_score(model_name,accuracy,AUROC,recall):    \n",
    "    test_model = {\n",
    "        'model_name': model_name,\n",
    "        'accuracy': accuracy,\n",
    "        'AUROC': AUROC,\n",
    "        'recall': recall\n",
    "    }\n",
    "    final_scores.append(test_model)\n",
    "    return final_scores"
   ]
  },
  {
   "cell_type": "markdown",
   "metadata": {},
   "source": [
    "## Train/Test Sets"
   ]
  },
  {
   "cell_type": "markdown",
   "metadata": {},
   "source": [
    "Before I proceed, just want to confirm we have enough data to use **three-way split**."
   ]
  },
  {
   "cell_type": "code",
   "execution_count": 107,
   "metadata": {},
   "outputs": [],
   "source": [
    "import pandas as pd\n",
    "import matplotlib.pyplot as plt\n",
    "import seaborn as sns\n",
    "import numpy as np\n",
    "from sklearn.model_selection import train_test_split\n",
    "from sklearn import metrics\n",
    "from sklearn import linear_model\n",
    "from sklearn.model_selection import GridSearchCV\n",
    "from sklearn.ensemble import RandomForestClassifier\n",
    "%matplotlib inline"
   ]
  },
  {
   "cell_type": "code",
   "execution_count": 108,
   "metadata": {},
   "outputs": [],
   "source": [
    "df = pd.read_csv('../FinalProject_EDA_v2/final_df.csv')"
   ]
  },
  {
   "cell_type": "code",
   "execution_count": 1,
   "metadata": {},
   "outputs": [],
   "source": [
    "#df.head()"
   ]
  },
  {
   "cell_type": "code",
   "execution_count": 110,
   "metadata": {},
   "outputs": [],
   "source": [
    "df = df.iloc[:,1:].reset_index(drop=True)"
   ]
  },
  {
   "cell_type": "code",
   "execution_count": 111,
   "metadata": {},
   "outputs": [
    {
     "name": "stdout",
     "output_type": "stream",
     "text": [
      "<class 'pandas.core.frame.DataFrame'>\n",
      "RangeIndex: 4704 entries, 0 to 4703\n",
      "Data columns (total 15 columns):\n",
      "impressions         4704 non-null float64\n",
      "clicks              4704 non-null float64\n",
      "ad_unit_1           4704 non-null object\n",
      "ad_unit_3           4507 non-null object\n",
      "line_item_type      4704 non-null object\n",
      "order               4704 non-null object\n",
      "creative_size       4704 non-null object\n",
      "CTR                 4704 non-null float64\n",
      "null_ctr            4704 non-null float64\n",
      "ctr_diff            4704 non-null float64\n",
      "size_grouped        4704 non-null object\n",
      "device_category     4704 non-null object\n",
      "ad_unit_1_clean     4704 non-null object\n",
      "ad_unit_3_device    4507 non-null object\n",
      "ad_unit_1_order     4704 non-null object\n",
      "dtypes: float64(5), object(10)\n",
      "memory usage: 551.3+ KB\n"
     ]
    }
   ],
   "source": [
    "df.info()"
   ]
  },
  {
   "cell_type": "code",
   "execution_count": 112,
   "metadata": {},
   "outputs": [
    {
     "name": "stdout",
     "output_type": "stream",
     "text": [
      "235332097.0\n",
      "494645.0\n",
      "50028.0818452\n",
      "105.15412415\n"
     ]
    }
   ],
   "source": [
    "print df['impressions'].sum()\n",
    "print df['clicks'].sum()\n",
    "\n",
    "print df['impressions'].sum()/4704\n",
    "print df['clicks'].sum()/4704"
   ]
  },
  {
   "cell_type": "markdown",
   "metadata": {},
   "source": [
    "Hm… we average out to just 105 clicks per row. I'm not really sure how concerning this is. It seems like a very small number. I'll move forward in the meantime."
   ]
  },
  {
   "cell_type": "code",
   "execution_count": 113,
   "metadata": {},
   "outputs": [
    {
     "name": "stdout",
     "output_type": "stream",
     "text": [
      "940.8\n"
     ]
    }
   ],
   "source": [
    "print 4704*0.2 \n",
    "# how many rows will be in the test dataset if 80/20 split."
   ]
  },
  {
   "cell_type": "code",
   "execution_count": 114,
   "metadata": {},
   "outputs": [
    {
     "data": {
      "text/plain": [
       "Index([u'impressions', u'clicks', u'ad_unit_1', u'ad_unit_3',\n",
       "       u'line_item_type', u'order', u'creative_size', u'CTR', u'null_ctr',\n",
       "       u'ctr_diff', u'size_grouped', u'device_category', u'ad_unit_1_clean',\n",
       "       u'ad_unit_3_device', u'ad_unit_1_order'],\n",
       "      dtype='object')"
      ]
     },
     "execution_count": 114,
     "metadata": {},
     "output_type": "execute_result"
    }
   ],
   "source": [
    "df.columns"
   ]
  },
  {
   "cell_type": "code",
   "execution_count": 115,
   "metadata": {},
   "outputs": [],
   "source": [
    "feature_cols = ['line_item_type',\n",
    "                'ad_unit_1_order',\n",
    "                'size_grouped',\n",
    "                'ad_unit_3_device',\n",
    "                'device_category',\n",
    "                'ad_unit_1_clean'\n",
    "               ]"
   ]
  },
  {
   "cell_type": "code",
   "execution_count": 196,
   "metadata": {},
   "outputs": [],
   "source": [
    "X = df[feature_cols]\n",
    "y = df['y']"
   ]
  },
  {
   "cell_type": "code",
   "execution_count": 197,
   "metadata": {},
   "outputs": [],
   "source": [
    "X_train, X_test, y_train, y_test = train_test_split(X, y, random_state=42,test_size=0.20)"
   ]
  },
  {
   "cell_type": "markdown",
   "metadata": {},
   "source": [
    "***"
   ]
  },
  {
   "cell_type": "markdown",
   "metadata": {},
   "source": [
    "## One-Hot Encoding"
   ]
  },
  {
   "cell_type": "markdown",
   "metadata": {},
   "source": [
    "Before I can run anything through models, need to convert my categorical variables into numerical ones. I'll try both One-Hot Encoding and Feature Hashing and see how performance compares.\n",
    "\n",
    "One-Hot is basically like get_dummies, so I'll just do that. __[(source)](https://stackoverflow.com/questions/36631163/pandas-get-dummies-vs-sklearns-onehotencoder-what-is-more-efficient)__"
   ]
  },
  {
   "cell_type": "code",
   "execution_count": 116,
   "metadata": {},
   "outputs": [
    {
     "data": {
      "text/plain": [
       "['line_item_type',\n",
       " 'ad_unit_1_order',\n",
       " 'size_grouped',\n",
       " 'ad_unit_3_device',\n",
       " 'device_category',\n",
       " 'ad_unit_1_clean']"
      ]
     },
     "execution_count": 116,
     "metadata": {},
     "output_type": "execute_result"
    }
   ],
   "source": [
    "feature_cols"
   ]
  },
  {
   "cell_type": "code",
   "execution_count": 1,
   "metadata": {},
   "outputs": [],
   "source": [
    "#df.head()"
   ]
  },
  {
   "cell_type": "code",
   "execution_count": 118,
   "metadata": {},
   "outputs": [],
   "source": [
    "df_dummies = df"
   ]
  },
  {
   "cell_type": "code",
   "execution_count": 2,
   "metadata": {},
   "outputs": [],
   "source": [
    "#df_dummies.join(pd.get_dummies(df_dummies['line_item_type'],drop_first=True, prefix='line_item_type-'))"
   ]
  },
  {
   "cell_type": "code",
   "execution_count": 120,
   "metadata": {},
   "outputs": [],
   "source": [
    "for col in feature_cols[1:]:\n",
    "    df_dummies = df_dummies.join(pd.get_dummies(df_dummies[col],drop_first=True, prefix=col+'-'))"
   ]
  },
  {
   "cell_type": "code",
   "execution_count": 3,
   "metadata": {},
   "outputs": [],
   "source": [
    "#df_dummies.head()"
   ]
  },
  {
   "cell_type": "code",
   "execution_count": 4,
   "metadata": {},
   "outputs": [],
   "source": [
    "#list(df_dummies.columns)"
   ]
  },
  {
   "cell_type": "code",
   "execution_count": 123,
   "metadata": {
    "scrolled": true
   },
   "outputs": [
    {
     "name": "stdout",
     "output_type": "stream",
     "text": [
      "<class 'pandas.core.frame.DataFrame'>\n",
      "RangeIndex: 4704 entries, 0 to 4703\n",
      "Columns: 464 entries, impressions to ad_unit_1_clean-_The Spruce\n",
      "dtypes: float64(5), object(10), uint8(449)\n",
      "memory usage: 2.6+ MB\n"
     ]
    }
   ],
   "source": [
    "df_dummies.info()"
   ]
  },
  {
   "cell_type": "markdown",
   "metadata": {},
   "source": [
    "Now there are 4704 rows and 464 columns."
   ]
  },
  {
   "cell_type": "markdown",
   "metadata": {},
   "source": [
    "***"
   ]
  },
  {
   "cell_type": "markdown",
   "metadata": {},
   "source": [
    "## Logistic Regression with CTR Binning"
   ]
  },
  {
   "cell_type": "markdown",
   "metadata": {},
   "source": [
    "This method bins CTR into just two binary categories, so we can use logistic regression per usual."
   ]
  },
  {
   "cell_type": "markdown",
   "metadata": {},
   "source": [
    "### Bin CTRs"
   ]
  },
  {
   "cell_type": "markdown",
   "metadata": {},
   "source": [
    "1. Look at distribution, decide where to bin.\n",
    "2. Bin the CTRs."
   ]
  },
  {
   "cell_type": "markdown",
   "metadata": {},
   "source": [
    "#### 1. Decide where to set bin cutoff."
   ]
  },
  {
   "cell_type": "code",
   "execution_count": 124,
   "metadata": {},
   "outputs": [
    {
     "data": {
      "text/plain": [
       "<matplotlib.axes._subplots.AxesSubplot at 0x11cf08590>"
      ]
     },
     "execution_count": 124,
     "metadata": {},
     "output_type": "execute_result"
    },
    {
     "data": {
      "image/png": "[encoded data removed]",
      "text/plain": [
       "<matplotlib.figure.Figure at 0x11cef4fd0>"
      ]
     },
     "metadata": {},
     "output_type": "display_data"
    }
   ],
   "source": [
    "df_dummies['CTR'].plot(kind='hist', range=[0, 0.005])"
   ]
  },
  {
   "cell_type": "code",
   "execution_count": 125,
   "metadata": {},
   "outputs": [
    {
     "data": {
      "text/plain": [
       "count    4704.000000\n",
       "mean        0.002104\n",
       "std         0.014702\n",
       "min         0.000000\n",
       "25%         0.000000\n",
       "50%         0.000198\n",
       "75%         0.001359\n",
       "max         0.500000\n",
       "Name: CTR, dtype: float64"
      ]
     },
     "execution_count": 125,
     "metadata": {},
     "output_type": "execute_result"
    }
   ],
   "source": [
    "df_dummies['CTR'].describe()"
   ]
  },
  {
   "cell_type": "markdown",
   "metadata": {},
   "source": [
    "Because these CTRs are not weighted by impression volume, there are a lot of outliers. \n",
    "\n",
    "Removing all CTRs where impressions are <10,000 to see how that affects the distribution."
   ]
  },
  {
   "cell_type": "code",
   "execution_count": 126,
   "metadata": {},
   "outputs": [
    {
     "data": {
      "text/plain": [
       "count    1343.000000\n",
       "mean        0.001609\n",
       "std         0.002772\n",
       "min         0.000000\n",
       "25%         0.000394\n",
       "50%         0.001031\n",
       "75%         0.002128\n",
       "max         0.081592\n",
       "Name: CTR, dtype: float64"
      ]
     },
     "execution_count": 126,
     "metadata": {},
     "output_type": "execute_result"
    }
   ],
   "source": [
    "df_dummies[(df_dummies['impressions'] > 10000)]['CTR'].describe()"
   ]
  },
  {
   "cell_type": "code",
   "execution_count": 127,
   "metadata": {},
   "outputs": [
    {
     "data": {
      "text/plain": [
       "<matplotlib.axes._subplots.AxesSubplot at 0x11cc27b50>"
      ]
     },
     "execution_count": 127,
     "metadata": {},
     "output_type": "execute_result"
    },
    {
     "data": {
      "image/png": "[encoded data removed]",
      "text/plain": [
       "<matplotlib.figure.Figure at 0x11cd81ed0>"
      ]
     },
     "metadata": {},
     "output_type": "display_data"
    }
   ],
   "source": [
    "df_dummies[(df_dummies['impressions'] > 10000)]['CTR'].plot(kind='hist',range=[0, 0.005])"
   ]
  },
  {
   "cell_type": "markdown",
   "metadata": {},
   "source": [
    "Interesting, removing low volume impression rows not only removed high-value outliers, they also removed a lot of 0% CTR rows."
   ]
  },
  {
   "cell_type": "markdown",
   "metadata": {},
   "source": [
    "Taking the **median** as our bin cutoff, we would split at 0.10% CTR.\n",
    "\n",
    "Industry benchmarks from __[Google](http://www.richmediagallery.com/learn/benchmarks)__ have all US display media averaging between 0.07%-0.09% CTR. \n",
    "\n",
    "This is roughly in-line with the median we see in our data. (It's promising that our mean is a good chunk above the industry average, at 0.16%.) \n",
    "\n",
    "So, we'll use **0.10%** as the cutoff for our binary \"good/bad\" CTR values."
   ]
  },
  {
   "cell_type": "markdown",
   "metadata": {},
   "source": [
    "#### 2. Categorize CTRs."
   ]
  },
  {
   "cell_type": "code",
   "execution_count": 128,
   "metadata": {},
   "outputs": [],
   "source": [
    "df_dummies['ctr_bin'] = np.where(df['CTR']>=0.0010,1,0)"
   ]
  },
  {
   "cell_type": "code",
   "execution_count": 129,
   "metadata": {},
   "outputs": [
    {
     "data": {
      "text/plain": [
       "0    3278\n",
       "1    1426\n",
       "Name: ctr_bin, dtype: int64"
      ]
     },
     "execution_count": 129,
     "metadata": {},
     "output_type": "execute_result"
    }
   ],
   "source": [
    "df_dummies['ctr_bin'].value_counts()"
   ]
  },
  {
   "cell_type": "markdown",
   "metadata": {},
   "source": [
    "### Run a null model"
   ]
  },
  {
   "cell_type": "markdown",
   "metadata": {},
   "source": [
    "Just to level set, the \"null\" percentage I get from summing the count of 1s in \"ctr_bin\" is saying, \"With no information other than the training data results—no knowledge about any factors effect on CTR, etc—our best guess as to what makes a good/bad CTR and how many good/bad CTRs would be in a data set is just whatever the percentage of \"good CTR\" make up this training dataset.\""
   ]
  },
  {
   "cell_type": "code",
   "execution_count": 130,
   "metadata": {},
   "outputs": [
    {
     "data": {
      "text/plain": [
       "0.30314625850340138"
      ]
     },
     "execution_count": 130,
     "metadata": {},
     "output_type": "execute_result"
    }
   ],
   "source": [
    "y_null = sum(df_dummies['ctr_bin'])/float(len(df.index))\n",
    "y_null"
   ]
  },
  {
   "cell_type": "markdown",
   "metadata": {},
   "source": [
    "### Train test split data new, since Y variable is now ctr_bin."
   ]
  },
  {
   "cell_type": "code",
   "execution_count": 5,
   "metadata": {},
   "outputs": [],
   "source": [
    "#df_dummies.columns[15:464]"
   ]
  },
  {
   "cell_type": "code",
   "execution_count": 132,
   "metadata": {},
   "outputs": [],
   "source": [
    "feature_cols2 = df_dummies.columns[15:464]"
   ]
  },
  {
   "cell_type": "code",
   "execution_count": 133,
   "metadata": {},
   "outputs": [],
   "source": [
    "X = df_dummies[feature_cols2]\n",
    "y = df_dummies['ctr_bin']"
   ]
  },
  {
   "cell_type": "code",
   "execution_count": 134,
   "metadata": {},
   "outputs": [],
   "source": [
    "X_train, X_test, y_train, y_test = train_test_split(X, y, random_state=42,test_size=0.2)"
   ]
  },
  {
   "cell_type": "markdown",
   "metadata": {},
   "source": [
    "Leave CV to LogisticRegressionCV() function in optimization section?"
   ]
  },
  {
   "cell_type": "markdown",
   "metadata": {},
   "source": [
    "### Run an actual model"
   ]
  },
  {
   "cell_type": "code",
   "execution_count": 135,
   "metadata": {},
   "outputs": [],
   "source": [
    "logreg = linear_model.LogisticRegression()"
   ]
  },
  {
   "cell_type": "code",
   "execution_count": 136,
   "metadata": {},
   "outputs": [
    {
     "data": {
      "text/plain": [
       "LogisticRegression(C=1.0, class_weight=None, dual=False, fit_intercept=True,\n",
       "          intercept_scaling=1, max_iter=100, multi_class='ovr', n_jobs=1,\n",
       "          penalty='l2', random_state=None, solver='liblinear', tol=0.0001,\n",
       "          verbose=0, warm_start=False)"
      ]
     },
     "execution_count": 136,
     "metadata": {},
     "output_type": "execute_result"
    }
   ],
   "source": [
    "logreg.fit(X_train,y_train)"
   ]
  },
  {
   "cell_type": "code",
   "execution_count": 423,
   "metadata": {},
   "outputs": [
    {
     "data": {
      "text/plain": [
       "0.83151740632474092"
      ]
     },
     "execution_count": 423,
     "metadata": {},
     "output_type": "execute_result"
    }
   ],
   "source": [
    "y_pred = logreg.predict(X_train)\n",
    "logreg.score(X_train,y_train)"
   ]
  },
  {
   "cell_type": "markdown",
   "metadata": {},
   "source": [
    "**Before:** Our model was 80% accurate on training data.\n",
    "\n",
    "**After adding in order-ad_unit_1 interactive feature:** Our model is now at 83% accuracy."
   ]
  },
  {
   "cell_type": "code",
   "execution_count": 424,
   "metadata": {},
   "outputs": [
    {
     "name": "stdout",
     "output_type": "stream",
     "text": [
      "0.778958554729\n"
     ]
    }
   ],
   "source": [
    "y_pred = logreg.predict(X_test)\n",
    "acc = logreg.score(X_test,y_test)\n",
    "print acc"
   ]
  },
  {
   "cell_type": "markdown",
   "metadata": {},
   "source": [
    "**Before**: Our model was 76% accurate on the test data.\n",
    "\n",
    "**After adding in order-ad_unit_1 interactive feature:** Our model is now at 78% accuracy."
   ]
  },
  {
   "cell_type": "markdown",
   "metadata": {},
   "source": [
    "### Calculate AUROC Score"
   ]
  },
  {
   "cell_type": "code",
   "execution_count": 426,
   "metadata": {},
   "outputs": [
    {
     "data": {
      "text/plain": [
       "0.70899796481582122"
      ]
     },
     "execution_count": 426,
     "metadata": {},
     "output_type": "execute_result"
    }
   ],
   "source": [
    "auroc = metrics.roc_auc_score(\n",
    "    y_true=y_test,\n",
    "    y_score=y_pred,\n",
    "    average=None\n",
    ")\n",
    "auroc"
   ]
  },
  {
   "cell_type": "markdown",
   "metadata": {},
   "source": [
    "### Calculate Confusion Matrix"
   ]
  },
  {
   "cell_type": "code",
   "execution_count": 427,
   "metadata": {},
   "outputs": [
    {
     "data": {
      "text/plain": [
       "array([[581,  73],\n",
       "       [135, 152]])"
      ]
     },
     "execution_count": 427,
     "metadata": {},
     "output_type": "execute_result"
    }
   ],
   "source": [
    "metrics.confusion_matrix(\n",
    "    y_true=y_test,\n",
    "    y_pred=y_pred\n",
    ")"
   ]
  },
  {
   "cell_type": "code",
   "execution_count": 428,
   "metadata": {},
   "outputs": [
    {
     "name": "stdout",
     "output_type": "stream",
     "text": [
      "             precision    recall  f1-score   support\n",
      "\n",
      "          0       0.81      0.89      0.85       654\n",
      "          1       0.68      0.53      0.59       287\n",
      "\n",
      "avg / total       0.77      0.78      0.77       941\n",
      "\n"
     ]
    }
   ],
   "source": [
    "print metrics.classification_report(\n",
    "    y_true=y_test,\n",
    "    y_pred=y_pred\n",
    ")"
   ]
  },
  {
   "cell_type": "code",
   "execution_count": 429,
   "metadata": {},
   "outputs": [
    {
     "data": {
      "text/plain": [
       "0.52961672473867594"
      ]
     },
     "execution_count": 429,
     "metadata": {},
     "output_type": "execute_result"
    }
   ],
   "source": [
    "recall = metrics.recall_score(\n",
    "    y_true=y_test,\n",
    "    y_pred=y_pred\n",
    ")\n",
    "recall"
   ]
  },
  {
   "cell_type": "code",
   "execution_count": 430,
   "metadata": {},
   "outputs": [
    {
     "data": {
      "text/plain": [
       "[{'AUROC': 0.70899796481582122,\n",
       "  'accuracy': 0.77895855472901165,\n",
       "  'model_name': 'LogReg_Bin',\n",
       "  'recall': 0.52961672473867594}]"
      ]
     },
     "execution_count": 430,
     "metadata": {},
     "output_type": "execute_result"
    }
   ],
   "source": [
    "# add_score(model_name,accuracy,AUROC,recall)\n",
    "add_score('LogReg_Bin',acc,auroc,recall)"
   ]
  },
  {
   "cell_type": "markdown",
   "metadata": {},
   "source": [
    "<font color=blue>**Follow-Up:** To account for unbalanced data sets, apply weighting to down-sample/balance out the data.</font>"
   ]
  },
  {
   "cell_type": "markdown",
   "metadata": {},
   "source": [
    "### <font color=blue>Run balanced model</font>"
   ]
  },
  {
   "cell_type": "code",
   "execution_count": 431,
   "metadata": {},
   "outputs": [],
   "source": [
    "logreg_bal = linear_model.LogisticRegression(\n",
    "    class_weight='balanced'\n",
    ")"
   ]
  },
  {
   "cell_type": "code",
   "execution_count": 432,
   "metadata": {},
   "outputs": [
    {
     "data": {
      "text/plain": [
       "LogisticRegression(C=1.0, class_weight='balanced', dual=False,\n",
       "          fit_intercept=True, intercept_scaling=1, max_iter=100,\n",
       "          multi_class='ovr', n_jobs=1, penalty='l2', random_state=None,\n",
       "          solver='liblinear', tol=0.0001, verbose=0, warm_start=False)"
      ]
     },
     "execution_count": 432,
     "metadata": {},
     "output_type": "execute_result"
    }
   ],
   "source": [
    "logreg_bal.fit(X_train,y_train)"
   ]
  },
  {
   "cell_type": "code",
   "execution_count": 433,
   "metadata": {},
   "outputs": [
    {
     "data": {
      "text/plain": [
       "0.79883072017007706"
      ]
     },
     "execution_count": 433,
     "metadata": {},
     "output_type": "execute_result"
    }
   ],
   "source": [
    "y_pred = logreg_bal.predict(X_train)\n",
    "logreg_bal.score(X_train,y_train)"
   ]
  },
  {
   "cell_type": "code",
   "execution_count": 434,
   "metadata": {},
   "outputs": [
    {
     "data": {
      "text/plain": [
       "0.73113708820403822"
      ]
     },
     "execution_count": 434,
     "metadata": {},
     "output_type": "execute_result"
    }
   ],
   "source": [
    "y_pred = logreg_bal.predict(X_test)\n",
    "acc = logreg_bal.score(X_test,y_test)\n",
    "acc"
   ]
  },
  {
   "cell_type": "markdown",
   "metadata": {},
   "source": [
    "So overall model accuracy went from 76% down to 73%, but ideally our recall and precision increased."
   ]
  },
  {
   "cell_type": "markdown",
   "metadata": {},
   "source": [
    "### Calculate AUROC Score"
   ]
  },
  {
   "cell_type": "code",
   "execution_count": 436,
   "metadata": {},
   "outputs": [
    {
     "data": {
      "text/plain": [
       "0.73227471789789966"
      ]
     },
     "execution_count": 436,
     "metadata": {},
     "output_type": "execute_result"
    }
   ],
   "source": [
    "auroc = metrics.roc_auc_score(\n",
    "    y_true=y_test,\n",
    "    y_score=y_pred,\n",
    "    average=None\n",
    ")\n",
    "auroc"
   ]
  },
  {
   "cell_type": "markdown",
   "metadata": {},
   "source": [
    "Nice, AUROC went up from 70% to 73%, so overall unpredictability decreased."
   ]
  },
  {
   "cell_type": "markdown",
   "metadata": {},
   "source": [
    "### Calculate Confusion Matrix"
   ]
  },
  {
   "cell_type": "code",
   "execution_count": 437,
   "metadata": {},
   "outputs": [
    {
     "data": {
      "text/plain": [
       "array([[477, 177],\n",
       "       [ 76, 211]])"
      ]
     },
     "execution_count": 437,
     "metadata": {},
     "output_type": "execute_result"
    }
   ],
   "source": [
    "metrics.confusion_matrix(\n",
    "    y_true=y_test,\n",
    "    y_pred=y_pred\n",
    ")"
   ]
  },
  {
   "cell_type": "code",
   "execution_count": 438,
   "metadata": {},
   "outputs": [
    {
     "name": "stdout",
     "output_type": "stream",
     "text": [
      "             precision    recall  f1-score   support\n",
      "\n",
      "          0       0.86      0.73      0.79       654\n",
      "          1       0.54      0.74      0.63       287\n",
      "\n",
      "avg / total       0.77      0.73      0.74       941\n",
      "\n"
     ]
    }
   ],
   "source": [
    "print metrics.classification_report(\n",
    "    y_true=y_test,\n",
    "    y_pred=y_pred\n",
    ")"
   ]
  },
  {
   "cell_type": "markdown",
   "metadata": {},
   "source": [
    "**Recall** is better, more balanced, but precision is less balanced. We care about fewer false negatives, so recall is more relevant, anyway."
   ]
  },
  {
   "cell_type": "code",
   "execution_count": 439,
   "metadata": {},
   "outputs": [
    {
     "data": {
      "text/plain": [
       "0.73519163763066198"
      ]
     },
     "execution_count": 439,
     "metadata": {},
     "output_type": "execute_result"
    }
   ],
   "source": [
    "recall = metrics.recall_score(\n",
    "    y_true=y_test,\n",
    "    y_pred=y_pred\n",
    ")\n",
    "recall"
   ]
  },
  {
   "cell_type": "code",
   "execution_count": 440,
   "metadata": {},
   "outputs": [
    {
     "data": {
      "text/plain": [
       "[{'AUROC': 0.70899796481582122,\n",
       "  'accuracy': 0.77895855472901165,\n",
       "  'model_name': 'LogReg_Bin',\n",
       "  'recall': 0.52961672473867594},\n",
       " {'AUROC': 0.73227471789789966,\n",
       "  'accuracy': 0.73113708820403822,\n",
       "  'model_name': 'LogReg_Bin_Bal',\n",
       "  'recall': 0.73519163763066198}]"
      ]
     },
     "execution_count": 440,
     "metadata": {},
     "output_type": "execute_result"
    }
   ],
   "source": [
    "# add_score(model_name,accuracy,AUROC,recall)\n",
    "add_score('LogReg_Bin_Bal',acc,auroc,recall)"
   ]
  },
  {
   "cell_type": "markdown",
   "metadata": {},
   "source": [
    "### What do the coefficients mean?"
   ]
  },
  {
   "cell_type": "code",
   "execution_count": 151,
   "metadata": {},
   "outputs": [],
   "source": [
    "coefficients = []"
   ]
  },
  {
   "cell_type": "code",
   "execution_count": 152,
   "metadata": {},
   "outputs": [],
   "source": [
    "for each in logreg.coef_[0]:\n",
    "    coefficients.append(each)"
   ]
  },
  {
   "cell_type": "code",
   "execution_count": 153,
   "metadata": {},
   "outputs": [
    {
     "data": {
      "text/plain": [
       "449"
      ]
     },
     "execution_count": 153,
     "metadata": {},
     "output_type": "execute_result"
    }
   ],
   "source": [
    "len(coefficients)"
   ]
  },
  {
   "cell_type": "code",
   "execution_count": 154,
   "metadata": {},
   "outputs": [],
   "source": [
    "#logreg.coef_[0]"
   ]
  },
  {
   "cell_type": "code",
   "execution_count": 155,
   "metadata": {},
   "outputs": [],
   "source": [
    "features_list = list(feature_cols2)"
   ]
  },
  {
   "cell_type": "code",
   "execution_count": 156,
   "metadata": {},
   "outputs": [
    {
     "data": {
      "text/plain": [
       "449"
      ]
     },
     "execution_count": 156,
     "metadata": {},
     "output_type": "execute_result"
    }
   ],
   "source": [
    "len(features_list)"
   ]
  },
  {
   "cell_type": "markdown",
   "metadata": {},
   "source": [
    "#### Convert coefficient values to logodds"
   ]
  },
  {
   "cell_type": "code",
   "execution_count": 157,
   "metadata": {},
   "outputs": [],
   "source": [
    "def logodds_to_prob(x):\n",
    "    logodds = x\n",
    "    odds = np.exp(logodds)\n",
    "    prob = odds/(1+odds)\n",
    "    return prob"
   ]
  },
  {
   "cell_type": "code",
   "execution_count": 158,
   "metadata": {},
   "outputs": [],
   "source": [
    "prob = logodds_to_prob(coefficients)"
   ]
  },
  {
   "cell_type": "markdown",
   "metadata": {},
   "source": [
    "#### Combine into a dataframe"
   ]
  },
  {
   "cell_type": "code",
   "execution_count": 159,
   "metadata": {},
   "outputs": [],
   "source": [
    "feat_coef = pd.DataFrame(\n",
    "{\n",
    "    'feature': features_list,\n",
    "    'coef': coefficients,\n",
    "    'prob': prob\n",
    "})"
   ]
  },
  {
   "cell_type": "code",
   "execution_count": 6,
   "metadata": {},
   "outputs": [],
   "source": [
    "#feat_coef.sort_values(by='coef',ascending=False).head(10)"
   ]
  },
  {
   "cell_type": "code",
   "execution_count": 7,
   "metadata": {},
   "outputs": [],
   "source": [
    "#feat_coef.sort_values(by='coef',ascending=False).tail(10)"
   ]
  },
  {
   "cell_type": "markdown",
   "metadata": {},
   "source": [
    "The intuition here is a little weird. A -2.445 logodds still converts to a positive probability, when in reality that features hould probably be decreasing probability… Or perhaps it's anything underneath a threshold (since our values are always between 0 and 1)."
   ]
  },
  {
   "cell_type": "markdown",
   "metadata": {},
   "source": [
    "Looks like specific **creatives (orders)** and **placements** make the biggest impact:\n",
    "- **728x90** perofrms really badly; don't recommend this creative size.\n",
    "- You also don't want to place any of the ads **below-the-fold** (these are the billboard5s and billboard6s).\n",
    "\n",
    "This makes me wonder if I should have actually paired ad placement and device category together, as well as creative and ad_unit_1, and then removed device category all together."
   ]
  },
  {
   "cell_type": "markdown",
   "metadata": {},
   "source": [
    "**Results:** Tried the above, adding both columns (and removing their old non-paired counterparts to avoid unnecessary collinearity) increases model accuracy by a good 2-3%."
   ]
  },
  {
   "cell_type": "markdown",
   "metadata": {},
   "source": [
    "### Optimize by tuning C + adding CV (GridSearchCV)"
   ]
  },
  {
   "cell_type": "markdown",
   "metadata": {},
   "source": [
    "h/t Chris Albon"
   ]
  },
  {
   "cell_type": "code",
   "execution_count": 162,
   "metadata": {},
   "outputs": [],
   "source": [
    "# Create regularization penalty space\n",
    "penalty = ['l1', 'l2']\n",
    "\n",
    "# Create regularization hyperparameter space\n",
    "C = np.logspace(0, 4, 10)\n",
    "\n",
    "# Create hyperparameter options\n",
    "hyperparameters = dict(C=C, penalty=penalty)"
   ]
  },
  {
   "cell_type": "code",
   "execution_count": 163,
   "metadata": {},
   "outputs": [],
   "source": [
    "# Create grid search using 10-fold cross validation\n",
    "clf = GridSearchCV(logreg, hyperparameters, cv=10, verbose=0)"
   ]
  },
  {
   "cell_type": "code",
   "execution_count": 164,
   "metadata": {},
   "outputs": [],
   "source": [
    "# Fit grid search\n",
    "best_model = clf.fit(X_train, y_train)"
   ]
  },
  {
   "cell_type": "code",
   "execution_count": 165,
   "metadata": {},
   "outputs": [
    {
     "name": "stdout",
     "output_type": "stream",
     "text": [
      "('Best Penalty:', 'l2')\n",
      "('Best C:', 2.7825594022071245)\n",
      "('Best Parameter', {'penalty': 'l2', 'C': 2.7825594022071245})\n"
     ]
    }
   ],
   "source": [
    "# View best hyperparameters\n",
    "print('Best Penalty:', best_model.best_estimator_.get_params()['penalty'])\n",
    "print('Best C:', best_model.best_estimator_.get_params()['C'])\n",
    "print('Best Parameter', best_model.best_params_)"
   ]
  },
  {
   "cell_type": "code",
   "execution_count": 166,
   "metadata": {},
   "outputs": [],
   "source": [
    "# Predict target vector\n",
    "y_pred = best_model.predict(X_train)"
   ]
  },
  {
   "cell_type": "code",
   "execution_count": 167,
   "metadata": {},
   "outputs": [
    {
     "name": "stdout",
     "output_type": "stream",
     "text": [
      "0.782088758969\n",
      "LogisticRegression(C=2.7825594022071245, class_weight=None, dual=False,\n",
      "          fit_intercept=True, intercept_scaling=1, max_iter=100,\n",
      "          multi_class='ovr', n_jobs=1, penalty='l2', random_state=None,\n",
      "          solver='liblinear', tol=0.0001, verbose=0, warm_start=False)\n"
     ]
    }
   ],
   "source": [
    "print best_model.best_score_\n",
    "print best_model.best_estimator_"
   ]
  },
  {
   "cell_type": "markdown",
   "metadata": {},
   "source": [
    "<font color=blue>**Note:** Couldn't figure out how to get AUROC or recall scores from the best estimator, so replicating GridSearchCV with LogisticRegressionCV.</font>"
   ]
  },
  {
   "cell_type": "markdown",
   "metadata": {},
   "source": [
    "### Replicate using LogisticRegressionCV()"
   ]
  },
  {
   "cell_type": "code",
   "execution_count": 168,
   "metadata": {},
   "outputs": [],
   "source": [
    "logreg_cv = linear_model.LogisticRegressionCV(\n",
    "    Cs=[2.7825594022071245],\n",
    "    class_weight='balanced',\n",
    "    dual=False,\n",
    "    fit_intercept=True,\n",
    "    intercept_scaling=1,\n",
    "    max_iter=100,\n",
    "    multi_class='ovr',\n",
    "    n_jobs=1,\n",
    "    penalty='l2',\n",
    "    random_state=None,\n",
    "    solver='liblinear',\n",
    "    tol=0.0001,\n",
    "    verbose=0,\n",
    "    cv=10\n",
    ")"
   ]
  },
  {
   "cell_type": "code",
   "execution_count": 169,
   "metadata": {},
   "outputs": [
    {
     "data": {
      "text/plain": [
       "LogisticRegressionCV(Cs=[2.7825594022071245], class_weight='balanced', cv=10,\n",
       "           dual=False, fit_intercept=True, intercept_scaling=1,\n",
       "           max_iter=100, multi_class='ovr', n_jobs=1, penalty='l2',\n",
       "           random_state=None, refit=True, scoring=None, solver='liblinear',\n",
       "           tol=0.0001, verbose=0)"
      ]
     },
     "execution_count": 169,
     "metadata": {},
     "output_type": "execute_result"
    }
   ],
   "source": [
    "logreg_cv.fit(X_train,y_train)"
   ]
  },
  {
   "cell_type": "code",
   "execution_count": 441,
   "metadata": {},
   "outputs": [
    {
     "data": {
      "text/plain": [
       "0.81264948179643903"
      ]
     },
     "execution_count": 441,
     "metadata": {},
     "output_type": "execute_result"
    }
   ],
   "source": [
    "y_pred = logreg_cv.predict(X_train)\n",
    "logreg_cv.score(X_train,y_train)"
   ]
  },
  {
   "cell_type": "markdown",
   "metadata": {},
   "source": [
    "Best performance against test data."
   ]
  },
  {
   "cell_type": "code",
   "execution_count": 442,
   "metadata": {},
   "outputs": [
    {
     "data": {
      "text/plain": [
       "0.74814027630180657"
      ]
     },
     "execution_count": 442,
     "metadata": {},
     "output_type": "execute_result"
    }
   ],
   "source": [
    "y_pred = logreg_cv.predict(X_test)\n",
    "acc = logreg_cv.score(X_test,y_test)\n",
    "acc"
   ]
  },
  {
   "cell_type": "code",
   "execution_count": 443,
   "metadata": {},
   "outputs": [
    {
     "data": {
      "text/plain": [
       "0.50101306061398732"
      ]
     },
     "execution_count": 443,
     "metadata": {},
     "output_type": "execute_result"
    }
   ],
   "source": [
    "metrics.average_precision_score(\n",
    "    y_true=y_test, \n",
    "    y_score=y_pred, \n",
    "    average=None\n",
    ")"
   ]
  },
  {
   "cell_type": "code",
   "execution_count": 444,
   "metadata": {},
   "outputs": [
    {
     "data": {
      "text/plain": [
       "0.74939530522434983"
      ]
     },
     "execution_count": 444,
     "metadata": {},
     "output_type": "execute_result"
    }
   ],
   "source": [
    "auroc = metrics.roc_auc_score(\n",
    "    y_true=y_test,\n",
    "    y_score=y_pred,\n",
    "    average=None\n",
    ")\n",
    "auroc"
   ]
  },
  {
   "cell_type": "markdown",
   "metadata": {},
   "source": [
    "More slight improvement!"
   ]
  },
  {
   "cell_type": "markdown",
   "metadata": {},
   "source": [
    "### Calculate Confusion Matrix"
   ]
  },
  {
   "cell_type": "code",
   "execution_count": 445,
   "metadata": {},
   "outputs": [
    {
     "data": {
      "text/plain": [
       "array([[488, 166],\n",
       "       [ 71, 216]])"
      ]
     },
     "execution_count": 445,
     "metadata": {},
     "output_type": "execute_result"
    }
   ],
   "source": [
    "metrics.confusion_matrix(\n",
    "    y_true=y_test,\n",
    "    y_pred=y_pred\n",
    ")"
   ]
  },
  {
   "cell_type": "code",
   "execution_count": 446,
   "metadata": {},
   "outputs": [
    {
     "name": "stdout",
     "output_type": "stream",
     "text": [
      "             precision    recall  f1-score   support\n",
      "\n",
      "          0       0.87      0.75      0.80       654\n",
      "          1       0.57      0.75      0.65       287\n",
      "\n",
      "avg / total       0.78      0.75      0.76       941\n",
      "\n"
     ]
    }
   ],
   "source": [
    "print metrics.classification_report(\n",
    "    y_true=y_test,\n",
    "    y_pred=y_pred\n",
    ")"
   ]
  },
  {
   "cell_type": "markdown",
   "metadata": {},
   "source": [
    "Recall is more balanced, precision still not so much."
   ]
  },
  {
   "cell_type": "code",
   "execution_count": 447,
   "metadata": {},
   "outputs": [
    {
     "data": {
      "text/plain": [
       "0.7526132404181185"
      ]
     },
     "execution_count": 447,
     "metadata": {},
     "output_type": "execute_result"
    }
   ],
   "source": [
    "recall = metrics.recall_score(\n",
    "    y_true=y_test,\n",
    "    y_pred=y_pred\n",
    ")\n",
    "recall"
   ]
  },
  {
   "cell_type": "code",
   "execution_count": 448,
   "metadata": {},
   "outputs": [
    {
     "data": {
      "text/plain": [
       "[{'AUROC': 0.70899796481582122,\n",
       "  'accuracy': 0.77895855472901165,\n",
       "  'model_name': 'LogReg_Bin',\n",
       "  'recall': 0.52961672473867594},\n",
       " {'AUROC': 0.73227471789789966,\n",
       "  'accuracy': 0.73113708820403822,\n",
       "  'model_name': 'LogReg_Bin_Bal',\n",
       "  'recall': 0.73519163763066198},\n",
       " {'AUROC': 0.74939530522434983,\n",
       "  'accuracy': 0.74814027630180657,\n",
       "  'model_name': 'LogReg_Bin_Bal_GSCV',\n",
       "  'recall': 0.7526132404181185}]"
      ]
     },
     "execution_count": 448,
     "metadata": {},
     "output_type": "execute_result"
    }
   ],
   "source": [
    "# add_score(model_name,accuracy,AUROC,recall)\n",
    "add_score('LogReg_Bin_Bal_GSCV',acc,auroc,recall)"
   ]
  },
  {
   "cell_type": "markdown",
   "metadata": {},
   "source": [
    "### Coefficients Exploration"
   ]
  },
  {
   "cell_type": "code",
   "execution_count": 174,
   "metadata": {},
   "outputs": [],
   "source": [
    "coefficients = []\n",
    "for each in logreg_cv.coef_[0]:\n",
    "    coefficients.append(each)"
   ]
  },
  {
   "cell_type": "code",
   "execution_count": 175,
   "metadata": {},
   "outputs": [],
   "source": [
    "features_list = list(feature_cols2)"
   ]
  },
  {
   "cell_type": "code",
   "execution_count": 176,
   "metadata": {},
   "outputs": [],
   "source": [
    "prob = logodds_to_prob(coefficients)"
   ]
  },
  {
   "cell_type": "code",
   "execution_count": 177,
   "metadata": {},
   "outputs": [],
   "source": [
    "feat_coef = pd.DataFrame(\n",
    "{\n",
    "    'feature': features_list,\n",
    "    'coef': coefficients,\n",
    "    'prob': prob\n",
    "})"
   ]
  },
  {
   "cell_type": "code",
   "execution_count": 9,
   "metadata": {},
   "outputs": [],
   "source": [
    "#feat_coef.sort_values(by='coef',ascending=False).head(20)"
   ]
  },
  {
   "cell_type": "code",
   "execution_count": 8,
   "metadata": {},
   "outputs": [],
   "source": [
    "#feat_coef.sort_values(by='coef',ascending=False).tail(20)"
   ]
  },
  {
   "cell_type": "markdown",
   "metadata": {},
   "source": [
    "There hasn't been any actual ranking change, even as the model has improved."
   ]
  },
  {
   "cell_type": "markdown",
   "metadata": {},
   "source": [
    "## Multinomial Logistic Regression with CTR Binning"
   ]
  },
  {
   "cell_type": "markdown",
   "metadata": {},
   "source": [
    "Another method recommended by a data scientist coworker is binning CTRs into high, medium, low ranges. Since our goal is to understand which features most influence higher CTR, it's not necessary for us to know exactly what the end CTR is or to predict a specific CTR.\n",
    "\n",
    "This should be just like the binomial logistic regression above, just with more bins. I imagine it would have higher model performance, since it's more granular? (As long as there isn't too much overfitting.)"
   ]
  },
  {
   "cell_type": "markdown",
   "metadata": {},
   "source": [
    "### 1. Bin the CTRs\n",
    "\n",
    "Going to split CTRs into 3 vs 4 vs 5 categories and see how that affects performance."
   ]
  },
  {
   "cell_type": "code",
   "execution_count": 180,
   "metadata": {},
   "outputs": [
    {
     "data": {
      "text/plain": [
       "<matplotlib.axes._subplots.AxesSubplot at 0x11d0ba8d0>"
      ]
     },
     "execution_count": 180,
     "metadata": {},
     "output_type": "execute_result"
    },
    {
     "data": {
      "image/png": "[encoded data removed]",
      "text/plain": [
       "<matplotlib.figure.Figure at 0x11919fc50>"
      ]
     },
     "metadata": {},
     "output_type": "display_data"
    }
   ],
   "source": [
    "df_dummies['CTR'].plot(kind='hist', range=[0, 0.005])"
   ]
  },
  {
   "cell_type": "code",
   "execution_count": 181,
   "metadata": {},
   "outputs": [
    {
     "name": "stdout",
     "output_type": "stream",
     "text": [
      "1568\n",
      "3136\n",
      "4704\n"
     ]
    }
   ],
   "source": [
    "print df_dummies['CTR'].count()/3\n",
    "print df_dummies['CTR'].count()/3*2\n",
    "print df_dummies['CTR'].count()"
   ]
  },
  {
   "cell_type": "code",
   "execution_count": 182,
   "metadata": {},
   "outputs": [],
   "source": [
    "df_ctr = df_dummies['CTR'].sort_values(ascending=True).reset_index(drop=True)"
   ]
  },
  {
   "cell_type": "code",
   "execution_count": 183,
   "metadata": {},
   "outputs": [
    {
     "name": "stdout",
     "output_type": "stream",
     "text": [
      "0.0\n",
      "0.000853533629225\n",
      "0.5\n"
     ]
    }
   ],
   "source": [
    "print df_ctr[1568]\n",
    "print df_ctr[3136]\n",
    "print df_ctr[4703]"
   ]
  },
  {
   "cell_type": "code",
   "execution_count": 184,
   "metadata": {},
   "outputs": [],
   "source": [
    "def binner(num):\n",
    "    for each in range(0,num):\n",
    "        bin = df_dummies['CTR'].count()/num*each\n",
    "        print df_ctr[bin]\n",
    "    print df_ctr[4703]"
   ]
  },
  {
   "cell_type": "code",
   "execution_count": 185,
   "metadata": {},
   "outputs": [
    {
     "name": "stdout",
     "output_type": "stream",
     "text": [
      "0.0\n",
      "0.0\n",
      "0.000199215719169\n",
      "0.00135961930659\n",
      "0.5\n"
     ]
    }
   ],
   "source": [
    "binner(4)"
   ]
  },
  {
   "cell_type": "code",
   "execution_count": 186,
   "metadata": {},
   "outputs": [
    {
     "name": "stdout",
     "output_type": "stream",
     "text": [
      "0.0\n",
      "0.0\n",
      "0.0\n",
      "0.00055277269016\n",
      "0.00173310225303\n",
      "0.5\n"
     ]
    }
   ],
   "source": [
    "binner(5)"
   ]
  },
  {
   "cell_type": "markdown",
   "metadata": {},
   "source": [
    "Not sure how the unbalanced nature of the dataset is going to affect model performance. Actually seems like the only reasonable bin is using 3 groups: \n",
    "- [0,0.000199215719169)\n",
    "- [0.000199215719169,0.00135961930659)\n",
    "- [0.00135961930659,0.5]"
   ]
  },
  {
   "cell_type": "markdown",
   "metadata": {},
   "source": [
    "I have a feeling this model is actually going to be poorer than the previous, because that final bucket is going to be heavily skewed by outliers… "
   ]
  },
  {
   "cell_type": "markdown",
   "metadata": {},
   "source": [
    "**Weight of evidence (WOE)** could be an interesting way of binning and measuring my caetgorical dependent variables… __[link](http://multithreaded.stitchfix.com/blog/2015/08/13/weight-of-evidence/)__"
   ]
  },
  {
   "cell_type": "markdown",
   "metadata": {},
   "source": [
    "#### 2. Categorize the CTRs."
   ]
  },
  {
   "cell_type": "code",
   "execution_count": 187,
   "metadata": {},
   "outputs": [],
   "source": [
    "bins = [-0.00000000000001, 0.000199215719169, 0.00135961930659, 0.5]"
   ]
  },
  {
   "cell_type": "code",
   "execution_count": 188,
   "metadata": {},
   "outputs": [],
   "source": [
    "group_names = ['low','good','great']"
   ]
  },
  {
   "cell_type": "code",
   "execution_count": 189,
   "metadata": {},
   "outputs": [
    {
     "data": {
      "text/plain": [
       "low      2352\n",
       "good     1177\n",
       "great    1175\n",
       "Name: CTR, dtype: int64"
      ]
     },
     "execution_count": 189,
     "metadata": {},
     "output_type": "execute_result"
    }
   ],
   "source": [
    "ctr_bins = pd.cut(df_dummies['CTR'], bins, labels=group_names)\n",
    "ctr_bins.value_counts()"
   ]
  },
  {
   "cell_type": "code",
   "execution_count": 190,
   "metadata": {},
   "outputs": [],
   "source": [
    "df_dummies['ctr_bins'] = pd.cut(df_dummies['CTR'], bins, labels=group_names)"
   ]
  },
  {
   "cell_type": "code",
   "execution_count": 10,
   "metadata": {},
   "outputs": [],
   "source": [
    "#df_dummies.head()"
   ]
  },
  {
   "cell_type": "markdown",
   "metadata": {},
   "source": [
    "### Null model\n",
    "\n",
    "Is still the same as null model from binomial logistic regression."
   ]
  },
  {
   "cell_type": "markdown",
   "metadata": {},
   "source": [
    "### Reassign y value, but train/test/split sets still remain the same."
   ]
  },
  {
   "cell_type": "code",
   "execution_count": 194,
   "metadata": {},
   "outputs": [],
   "source": [
    "y = df_dummies['ctr_bins']"
   ]
  },
  {
   "cell_type": "markdown",
   "metadata": {},
   "source": [
    "### Run an actual model"
   ]
  },
  {
   "cell_type": "code",
   "execution_count": 196,
   "metadata": {},
   "outputs": [],
   "source": [
    "multilogreg = linear_model.LogisticRegression(multi_class='multinomial', class_weight='balanced', solver='newton-cg')"
   ]
  },
  {
   "cell_type": "code",
   "execution_count": 197,
   "metadata": {},
   "outputs": [
    {
     "data": {
      "text/plain": [
       "LogisticRegression(C=1.0, class_weight='balanced', dual=False,\n",
       "          fit_intercept=True, intercept_scaling=1, max_iter=100,\n",
       "          multi_class='multinomial', n_jobs=1, penalty='l2',\n",
       "          random_state=None, solver='newton-cg', tol=0.0001, verbose=0,\n",
       "          warm_start=False)"
      ]
     },
     "execution_count": 197,
     "metadata": {},
     "output_type": "execute_result"
    }
   ],
   "source": [
    "multilogreg.fit(X_train, y_train)"
   ]
  },
  {
   "cell_type": "markdown",
   "metadata": {},
   "source": [
    "Multinomial regression doesn't accept the best solver from the previous model, **liblinear**. A bit over my head, so just switching to a solver that works."
   ]
  },
  {
   "cell_type": "code",
   "execution_count": 449,
   "metadata": {},
   "outputs": [
    {
     "data": {
      "text/plain": [
       "0.80972628222163168"
      ]
     },
     "execution_count": 449,
     "metadata": {},
     "output_type": "execute_result"
    }
   ],
   "source": [
    "y_pred = multilogreg.predict(X_train)\n",
    "multilogreg.score(X_train,y_train)"
   ]
  },
  {
   "cell_type": "markdown",
   "metadata": {},
   "source": [
    "Ooh, this model is a *bit* better than the binomial linear regression against the training data."
   ]
  },
  {
   "cell_type": "code",
   "execution_count": 450,
   "metadata": {},
   "outputs": [
    {
     "data": {
      "text/plain": [
       "0.73751328374070135"
      ]
     },
     "execution_count": 450,
     "metadata": {},
     "output_type": "execute_result"
    }
   ],
   "source": [
    "y_pred = multilogreg.predict(X_test)\n",
    "acc = multilogreg.score(X_test,y_test)\n",
    "acc"
   ]
  },
  {
   "cell_type": "markdown",
   "metadata": {},
   "source": [
    "Same with test data."
   ]
  },
  {
   "cell_type": "markdown",
   "metadata": {},
   "source": [
    "#### AUC Score"
   ]
  },
  {
   "cell_type": "code",
   "execution_count": 452,
   "metadata": {},
   "outputs": [
    {
     "data": {
      "text/plain": [
       "0.73588423957634075"
      ]
     },
     "execution_count": 452,
     "metadata": {},
     "output_type": "execute_result"
    }
   ],
   "source": [
    "auroc = metrics.roc_auc_score(\n",
    "    y_true=y_test,\n",
    "    y_score=y_pred,\n",
    "    average=None\n",
    ")\n",
    "auroc"
   ]
  },
  {
   "cell_type": "markdown",
   "metadata": {},
   "source": [
    "Improvements across all metrics. Now to optimize again."
   ]
  },
  {
   "cell_type": "markdown",
   "metadata": {},
   "source": [
    "### Calculate Confusion Matrix"
   ]
  },
  {
   "cell_type": "code",
   "execution_count": 453,
   "metadata": {},
   "outputs": [
    {
     "data": {
      "text/plain": [
       "array([[484, 170],\n",
       "       [ 77, 210]])"
      ]
     },
     "execution_count": 453,
     "metadata": {},
     "output_type": "execute_result"
    }
   ],
   "source": [
    "metrics.confusion_matrix(\n",
    "    y_true=y_test,\n",
    "    y_pred=y_pred\n",
    ")"
   ]
  },
  {
   "cell_type": "code",
   "execution_count": 454,
   "metadata": {},
   "outputs": [
    {
     "name": "stdout",
     "output_type": "stream",
     "text": [
      "             precision    recall  f1-score   support\n",
      "\n",
      "          0       0.86      0.74      0.80       654\n",
      "          1       0.55      0.73      0.63       287\n",
      "\n",
      "avg / total       0.77      0.74      0.75       941\n",
      "\n"
     ]
    }
   ],
   "source": [
    "print metrics.classification_report(\n",
    "    y_true=y_test,\n",
    "    y_pred=y_pred\n",
    ")"
   ]
  },
  {
   "cell_type": "markdown",
   "metadata": {},
   "source": [
    "No real difference to precision and recall."
   ]
  },
  {
   "cell_type": "code",
   "execution_count": 455,
   "metadata": {},
   "outputs": [
    {
     "data": {
      "text/plain": [
       "0.73170731707317072"
      ]
     },
     "execution_count": 455,
     "metadata": {},
     "output_type": "execute_result"
    }
   ],
   "source": [
    "recall = metrics.recall_score(\n",
    "    y_true=y_test,\n",
    "    y_pred=y_pred\n",
    ")\n",
    "recall"
   ]
  },
  {
   "cell_type": "code",
   "execution_count": 456,
   "metadata": {},
   "outputs": [
    {
     "data": {
      "text/plain": [
       "[{'AUROC': 0.70899796481582122,\n",
       "  'accuracy': 0.77895855472901165,\n",
       "  'model_name': 'LogReg_Bin',\n",
       "  'recall': 0.52961672473867594},\n",
       " {'AUROC': 0.73227471789789966,\n",
       "  'accuracy': 0.73113708820403822,\n",
       "  'model_name': 'LogReg_Bin_Bal',\n",
       "  'recall': 0.73519163763066198},\n",
       " {'AUROC': 0.74939530522434983,\n",
       "  'accuracy': 0.74814027630180657,\n",
       "  'model_name': 'LogReg_Bin_Bal_GSCV',\n",
       "  'recall': 0.7526132404181185},\n",
       " {'AUROC': 0.73588423957634075,\n",
       "  'accuracy': 0.73751328374070135,\n",
       "  'model_name': 'LogReg_Multi',\n",
       "  'recall': 0.73170731707317072}]"
      ]
     },
     "execution_count": 456,
     "metadata": {},
     "output_type": "execute_result"
    }
   ],
   "source": [
    "# add_score(model_name,accuracy,AUROC,recall)\n",
    "add_score('LogReg_Multi',acc,auroc,recall)"
   ]
  },
  {
   "cell_type": "markdown",
   "metadata": {},
   "source": [
    "### Coefficients Exploration"
   ]
  },
  {
   "cell_type": "code",
   "execution_count": 208,
   "metadata": {},
   "outputs": [],
   "source": [
    "coefficients = []\n",
    "for each in multilogreg.coef_[0]:\n",
    "    coefficients.append(each)"
   ]
  },
  {
   "cell_type": "code",
   "execution_count": 209,
   "metadata": {},
   "outputs": [],
   "source": [
    "features_list = list(feature_cols2)"
   ]
  },
  {
   "cell_type": "code",
   "execution_count": 210,
   "metadata": {},
   "outputs": [],
   "source": [
    "prob = logodds_to_prob(coefficients)"
   ]
  },
  {
   "cell_type": "code",
   "execution_count": 211,
   "metadata": {},
   "outputs": [],
   "source": [
    "feat_coef = pd.DataFrame(\n",
    "{\n",
    "    'feature': features_list,\n",
    "    'coef': coefficients,\n",
    "    'prob': prob\n",
    "})"
   ]
  },
  {
   "cell_type": "code",
   "execution_count": 11,
   "metadata": {},
   "outputs": [],
   "source": [
    "#feat_coef.sort_values(by='coef',ascending=False).head(20)"
   ]
  },
  {
   "cell_type": "code",
   "execution_count": 12,
   "metadata": {},
   "outputs": [],
   "source": [
    "#feat_coef.sort_values(by='coef',ascending=False).tail(20)"
   ]
  },
  {
   "cell_type": "markdown",
   "metadata": {},
   "source": [
    "Best and worst features are basically the same against previous model."
   ]
  },
  {
   "cell_type": "markdown",
   "metadata": {},
   "source": [
    "### Optimize by tuning C (GridSearch) + adding CV again"
   ]
  },
  {
   "cell_type": "code",
   "execution_count": 202,
   "metadata": {},
   "outputs": [],
   "source": [
    "# Create regularization penalty space\n",
    "penalty = ['l2']\n",
    "\n",
    "# Create regularization hyperparameter space\n",
    "C = np.logspace(0, 4, 10)\n",
    "\n",
    "# Create hyperparameter options\n",
    "hyperparameters = dict(C=C, penalty=penalty)"
   ]
  },
  {
   "cell_type": "code",
   "execution_count": 203,
   "metadata": {},
   "outputs": [],
   "source": [
    "# Create grid search using 10-fold cross validation\n",
    "clf = GridSearchCV(multilogreg, hyperparameters, cv=10, verbose=0)"
   ]
  },
  {
   "cell_type": "code",
   "execution_count": 204,
   "metadata": {},
   "outputs": [],
   "source": [
    "# Fit grid search\n",
    "best_model = clf.fit(X_train, y_train)"
   ]
  },
  {
   "cell_type": "code",
   "execution_count": 205,
   "metadata": {},
   "outputs": [
    {
     "name": "stdout",
     "output_type": "stream",
     "text": [
      "('Best Penalty:', 'l2')\n",
      "('Best C:', 2.7825594022071245)\n"
     ]
    }
   ],
   "source": [
    "# View best hyperparameters\n",
    "print('Best Penalty:', best_model.best_estimator_.get_params()['penalty'])\n",
    "print('Best C:', best_model.best_estimator_.get_params()['C'])"
   ]
  },
  {
   "cell_type": "code",
   "execution_count": 206,
   "metadata": {},
   "outputs": [],
   "source": [
    "# Predict target vector\n",
    "y_pred = best_model.predict(X_train)"
   ]
  },
  {
   "cell_type": "code",
   "execution_count": 207,
   "metadata": {
    "scrolled": true
   },
   "outputs": [
    {
     "name": "stdout",
     "output_type": "stream",
     "text": [
      "0.759500398618\n",
      "LogisticRegression(C=2.7825594022071245, class_weight='balanced', dual=False,\n",
      "          fit_intercept=True, intercept_scaling=1, max_iter=100,\n",
      "          multi_class='multinomial', n_jobs=1, penalty='l2',\n",
      "          random_state=None, solver='newton-cg', tol=0.0001, verbose=0,\n",
      "          warm_start=False)\n"
     ]
    }
   ],
   "source": [
    "print best_model.best_score_\n",
    "print best_model.best_estimator_"
   ]
  },
  {
   "cell_type": "markdown",
   "metadata": {},
   "source": [
    "Just slightly better than the other model. (By 0.03%.)"
   ]
  },
  {
   "cell_type": "markdown",
   "metadata": {},
   "source": [
    "### Replicate using LogisticRegressionCV()"
   ]
  },
  {
   "cell_type": "code",
   "execution_count": 214,
   "metadata": {},
   "outputs": [],
   "source": [
    "multilogreg_cv = linear_model.LogisticRegressionCV(\n",
    "    Cs=[2.7825594022071245],\n",
    "    class_weight=None,\n",
    "    dual=False,\n",
    "    fit_intercept=True,\n",
    "    intercept_scaling=1,\n",
    "    max_iter=100,\n",
    "    multi_class='multinomial',\n",
    "    n_jobs=1,\n",
    "    penalty='l2',\n",
    "    random_state=None,\n",
    "    solver='newton-cg',\n",
    "    tol=0.0001,\n",
    "    verbose=0,\n",
    "    cv=10\n",
    ")"
   ]
  },
  {
   "cell_type": "code",
   "execution_count": 215,
   "metadata": {},
   "outputs": [
    {
     "data": {
      "text/plain": [
       "LogisticRegressionCV(Cs=[2.7825594022071245], class_weight=None, cv=10,\n",
       "           dual=False, fit_intercept=True, intercept_scaling=1,\n",
       "           max_iter=100, multi_class='multinomial', n_jobs=1, penalty='l2',\n",
       "           random_state=None, refit=True, scoring=None, solver='newton-cg',\n",
       "           tol=0.0001, verbose=0)"
      ]
     },
     "execution_count": 215,
     "metadata": {},
     "output_type": "execute_result"
    }
   ],
   "source": [
    "multilogreg_cv.fit(X_train,y_train)"
   ]
  },
  {
   "cell_type": "code",
   "execution_count": 457,
   "metadata": {},
   "outputs": [
    {
     "data": {
      "text/plain": [
       "0.69891044379484457"
      ]
     },
     "execution_count": 457,
     "metadata": {},
     "output_type": "execute_result"
    }
   ],
   "source": [
    "y_pred = multilogreg_cv.predict(X_train)\n",
    "multilogreg_cv.score(X_train,y_train)"
   ]
  },
  {
   "cell_type": "markdown",
   "metadata": {},
   "source": [
    "Oof, this model's performance went way down!"
   ]
  },
  {
   "cell_type": "code",
   "execution_count": 458,
   "metadata": {},
   "outputs": [
    {
     "data": {
      "text/plain": [
       "0.70138150903294372"
      ]
     },
     "execution_count": 458,
     "metadata": {},
     "output_type": "execute_result"
    }
   ],
   "source": [
    "y_pred = multilogreg_cv.predict(X_test)\n",
    "acc = multilogreg_cv.score(X_test,y_test)\n",
    "acc"
   ]
  },
  {
   "cell_type": "code",
   "execution_count": 459,
   "metadata": {},
   "outputs": [
    {
     "data": {
      "text/plain": [
       "0.31952441431200407"
      ]
     },
     "execution_count": 459,
     "metadata": {},
     "output_type": "execute_result"
    }
   ],
   "source": [
    "metrics.average_precision_score(\n",
    "    y_true=y_test, \n",
    "    y_score=y_pred, \n",
    "    average=None\n",
    ")"
   ]
  },
  {
   "cell_type": "code",
   "execution_count": 460,
   "metadata": {},
   "outputs": [
    {
     "data": {
      "text/plain": [
       "0.51045296167247389"
      ]
     },
     "execution_count": 460,
     "metadata": {},
     "output_type": "execute_result"
    }
   ],
   "source": [
    "auroc = metrics.roc_auc_score(\n",
    "    y_true=y_test,\n",
    "    y_score=y_pred,\n",
    "    average=None\n",
    ")\n",
    "auroc"
   ]
  },
  {
   "cell_type": "markdown",
   "metadata": {},
   "source": [
    "Yeah, this model didn't perform better than binomial logistic regression."
   ]
  },
  {
   "cell_type": "markdown",
   "metadata": {},
   "source": [
    "### Calculate Confusion Matrix"
   ]
  },
  {
   "cell_type": "code",
   "execution_count": 461,
   "metadata": {},
   "outputs": [
    {
     "data": {
      "text/plain": [
       "array([[654,   0],\n",
       "       [281,   6]])"
      ]
     },
     "execution_count": 461,
     "metadata": {},
     "output_type": "execute_result"
    }
   ],
   "source": [
    "metrics.confusion_matrix(\n",
    "    y_true=y_test,\n",
    "    y_pred=y_pred\n",
    ")"
   ]
  },
  {
   "cell_type": "code",
   "execution_count": 462,
   "metadata": {},
   "outputs": [
    {
     "name": "stdout",
     "output_type": "stream",
     "text": [
      "             precision    recall  f1-score   support\n",
      "\n",
      "          0       0.70      1.00      0.82       654\n",
      "          1       1.00      0.02      0.04       287\n",
      "\n",
      "avg / total       0.79      0.70      0.58       941\n",
      "\n"
     ]
    }
   ],
   "source": [
    "print metrics.classification_report(\n",
    "    y_true=y_test,\n",
    "    y_pred=y_pred\n",
    ")"
   ]
  },
  {
   "cell_type": "markdown",
   "metadata": {},
   "source": [
    "Haha this is so bad."
   ]
  },
  {
   "cell_type": "code",
   "execution_count": 463,
   "metadata": {},
   "outputs": [
    {
     "data": {
      "text/plain": [
       "0.020905923344947737"
      ]
     },
     "execution_count": 463,
     "metadata": {},
     "output_type": "execute_result"
    }
   ],
   "source": [
    "recall = metrics.recall_score(\n",
    "    y_true=y_test,\n",
    "    y_pred=y_pred\n",
    ")\n",
    "recall"
   ]
  },
  {
   "cell_type": "code",
   "execution_count": 464,
   "metadata": {},
   "outputs": [
    {
     "data": {
      "text/plain": [
       "[{'AUROC': 0.70899796481582122,\n",
       "  'accuracy': 0.77895855472901165,\n",
       "  'model_name': 'LogReg_Bin',\n",
       "  'recall': 0.52961672473867594},\n",
       " {'AUROC': 0.73227471789789966,\n",
       "  'accuracy': 0.73113708820403822,\n",
       "  'model_name': 'LogReg_Bin_Bal',\n",
       "  'recall': 0.73519163763066198},\n",
       " {'AUROC': 0.74939530522434983,\n",
       "  'accuracy': 0.74814027630180657,\n",
       "  'model_name': 'LogReg_Bin_Bal_GSCV',\n",
       "  'recall': 0.7526132404181185},\n",
       " {'AUROC': 0.73588423957634075,\n",
       "  'accuracy': 0.73751328374070135,\n",
       "  'model_name': 'LogReg_Multi',\n",
       "  'recall': 0.73170731707317072},\n",
       " {'AUROC': 0.51045296167247389,\n",
       "  'accuracy': 0.70138150903294372,\n",
       "  'model_name': 'LogReg_Multi_GSCV',\n",
       "  'recall': 0.020905923344947737}]"
      ]
     },
     "execution_count": 464,
     "metadata": {},
     "output_type": "execute_result"
    }
   ],
   "source": [
    "# add_score(model_name,accuracy,AUROC,recall)\n",
    "add_score('LogReg_Multi_GSCV',acc,auroc,recall)"
   ]
  },
  {
   "cell_type": "markdown",
   "metadata": {},
   "source": [
    "### Coefficients Exploration (just for kicks)"
   ]
  },
  {
   "cell_type": "code",
   "execution_count": 220,
   "metadata": {},
   "outputs": [],
   "source": [
    "coefficients = []\n",
    "for each in multilogreg_cv.coef_[0]:\n",
    "    coefficients.append(each)"
   ]
  },
  {
   "cell_type": "code",
   "execution_count": 221,
   "metadata": {},
   "outputs": [],
   "source": [
    "features_list = list(feature_cols2)"
   ]
  },
  {
   "cell_type": "code",
   "execution_count": 222,
   "metadata": {},
   "outputs": [],
   "source": [
    "prob = logodds_to_prob(coefficients)"
   ]
  },
  {
   "cell_type": "code",
   "execution_count": 223,
   "metadata": {},
   "outputs": [],
   "source": [
    "feat_coef = pd.DataFrame(\n",
    "{\n",
    "    'feature': features_list,\n",
    "    'coef': coefficients,\n",
    "    'prob': prob\n",
    "})"
   ]
  },
  {
   "cell_type": "code",
   "execution_count": 502,
   "metadata": {},
   "outputs": [
    {
     "data": {
      "text/html": [
       "<div>\n",
       "<style>\n",
       "    .dataframe thead tr:only-child th {\n",
       "        text-align: right;\n",
       "    }\n",
       "\n",
       "    .dataframe thead th {\n",
       "        text-align: left;\n",
       "    }\n",
       "\n",
       "    .dataframe tbody tr th {\n",
       "        vertical-align: top;\n",
       "    }\n",
       "</style>\n",
       "<table border=\"1\" class=\"dataframe\">\n",
       "  <thead>\n",
       "    <tr style=\"text-align: right;\">\n",
       "      <th></th>\n",
       "      <th>coef</th>\n",
       "      <th>feature</th>\n",
       "      <th>prob</th>\n",
       "    </tr>\n",
       "  </thead>\n",
       "  <tbody>\n",
       "    <tr>\n",
       "      <th>444</th>\n",
       "      <td>2.125588</td>\n",
       "      <td>ad_unit_3_device-_native-desktop</td>\n",
       "      <td>0.893365</td>\n",
       "    </tr>\n",
       "    <tr>\n",
       "      <th>254</th>\n",
       "      <td>2.023306</td>\n",
       "      <td>ad_unit_1_order-_7324974_Behr Exterior 2017_5....</td>\n",
       "      <td>0.883222</td>\n",
       "    </tr>\n",
       "    <tr>\n",
       "      <th>291</th>\n",
       "      <td>1.709523</td>\n",
       "      <td>ad_unit_1_order-_7902294_Whirlpool KitchenAid ...</td>\n",
       "      <td>0.846774</td>\n",
       "    </tr>\n",
       "    <tr>\n",
       "      <th>443</th>\n",
       "      <td>1.634333</td>\n",
       "      <td>ad_unit_3_device-_leaderboardfooter2-desktop</td>\n",
       "      <td>0.836762</td>\n",
       "    </tr>\n",
       "    <tr>\n",
       "      <th>436</th>\n",
       "      <td>1.555509</td>\n",
       "      <td>ad_unit_3_device-_leaderboard2-desktop</td>\n",
       "      <td>0.825708</td>\n",
       "    </tr>\n",
       "    <tr>\n",
       "      <th>441</th>\n",
       "      <td>1.500316</td>\n",
       "      <td>ad_unit_3_device-_leaderboardac-desktop</td>\n",
       "      <td>0.817622</td>\n",
       "    </tr>\n",
       "    <tr>\n",
       "      <th>133</th>\n",
       "      <td>1.469707</td>\n",
       "      <td>ad_unit_1_order-_5406534_DIZ/WDH/020_USA_FY17_...</td>\n",
       "      <td>0.813013</td>\n",
       "    </tr>\n",
       "    <tr>\n",
       "      <th>223</th>\n",
       "      <td>1.451609</td>\n",
       "      <td>ad_unit_1_order-_6923694_Xiaflex DC Display Ca...</td>\n",
       "      <td>0.810246</td>\n",
       "    </tr>\n",
       "    <tr>\n",
       "      <th>157</th>\n",
       "      <td>1.436562</td>\n",
       "      <td>ad_unit_1_order-_6317454_Trulicity Display F/Y...</td>\n",
       "      <td>0.807922</td>\n",
       "    </tr>\n",
       "    <tr>\n",
       "      <th>415</th>\n",
       "      <td>1.416987</td>\n",
       "      <td>ad_unit_3_device-_billboard-desktop</td>\n",
       "      <td>0.804866</td>\n",
       "    </tr>\n",
       "  </tbody>\n",
       "</table>\n",
       "</div>"
      ],
      "text/plain": [
       "         coef                                            feature      prob\n",
       "444  2.125588                   ad_unit_3_device-_native-desktop  0.893365\n",
       "254  2.023306  ad_unit_1_order-_7324974_Behr Exterior 2017_5....  0.883222\n",
       "291  1.709523  ad_unit_1_order-_7902294_Whirlpool KitchenAid ...  0.846774\n",
       "443  1.634333       ad_unit_3_device-_leaderboardfooter2-desktop  0.836762\n",
       "436  1.555509             ad_unit_3_device-_leaderboard2-desktop  0.825708\n",
       "441  1.500316            ad_unit_3_device-_leaderboardac-desktop  0.817622\n",
       "133  1.469707  ad_unit_1_order-_5406534_DIZ/WDH/020_USA_FY17_...  0.813013\n",
       "223  1.451609  ad_unit_1_order-_6923694_Xiaflex DC Display Ca...  0.810246\n",
       "157  1.436562  ad_unit_1_order-_6317454_Trulicity Display F/Y...  0.807922\n",
       "415  1.416987                ad_unit_3_device-_billboard-desktop  0.804866"
      ]
     },
     "execution_count": 502,
     "metadata": {},
     "output_type": "execute_result"
    }
   ],
   "source": [
    "feat_coef.sort_values(by='coef',ascending=False).head(10)"
   ]
  },
  {
   "cell_type": "code",
   "execution_count": 503,
   "metadata": {},
   "outputs": [
    {
     "data": {
      "text/html": [
       "<div>\n",
       "<style>\n",
       "    .dataframe thead tr:only-child th {\n",
       "        text-align: right;\n",
       "    }\n",
       "\n",
       "    .dataframe thead th {\n",
       "        text-align: left;\n",
       "    }\n",
       "\n",
       "    .dataframe tbody tr th {\n",
       "        vertical-align: top;\n",
       "    }\n",
       "</style>\n",
       "<table border=\"1\" class=\"dataframe\">\n",
       "  <thead>\n",
       "    <tr style=\"text-align: right;\">\n",
       "      <th></th>\n",
       "      <th>coef</th>\n",
       "      <th>feature</th>\n",
       "      <th>prob</th>\n",
       "    </tr>\n",
       "  </thead>\n",
       "  <tbody>\n",
       "    <tr>\n",
       "      <th>311</th>\n",
       "      <td>-1.264453</td>\n",
       "      <td>ad_unit_1_order-_8032374_VAL_ONE_003_Digital C...</td>\n",
       "      <td>0.220208</td>\n",
       "    </tr>\n",
       "    <tr>\n",
       "      <th>31</th>\n",
       "      <td>-1.265617</td>\n",
       "      <td>ad_unit_1_order-_20001921_Stiolto Q3/Q4 2017_7...</td>\n",
       "      <td>0.220009</td>\n",
       "    </tr>\n",
       "    <tr>\n",
       "      <th>80</th>\n",
       "      <td>-1.309908</td>\n",
       "      <td>ad_unit_1_order-_20080945_Walgreens FY18-MEDD-...</td>\n",
       "      <td>0.212502</td>\n",
       "    </tr>\n",
       "    <tr>\n",
       "      <th>237</th>\n",
       "      <td>-1.355976</td>\n",
       "      <td>ad_unit_1_order-_7030614_Dignity Health_CHMC O...</td>\n",
       "      <td>0.204895</td>\n",
       "    </tr>\n",
       "    <tr>\n",
       "      <th>286</th>\n",
       "      <td>-1.383032</td>\n",
       "      <td>ad_unit_1_order-_7857534_FCAC Always On Campai...</td>\n",
       "      <td>0.200523</td>\n",
       "    </tr>\n",
       "    <tr>\n",
       "      <th>431</th>\n",
       "      <td>-1.454826</td>\n",
       "      <td>ad_unit_3_device-_billboardmobile2-mobile</td>\n",
       "      <td>0.189260</td>\n",
       "    </tr>\n",
       "    <tr>\n",
       "      <th>30</th>\n",
       "      <td>-1.538015</td>\n",
       "      <td>ad_unit_1_order-_20001921_Stiolto Q3/Q4 2017_7...</td>\n",
       "      <td>0.176824</td>\n",
       "    </tr>\n",
       "    <tr>\n",
       "      <th>396</th>\n",
       "      <td>-1.590701</td>\n",
       "      <td>ad_unit_1_order-_The Spruce - QA &amp; Testing-The...</td>\n",
       "      <td>0.169285</td>\n",
       "    </tr>\n",
       "    <tr>\n",
       "      <th>26</th>\n",
       "      <td>-1.610347</td>\n",
       "      <td>ad_unit_1_order-_19999038_The Home Depot_Q3 Sm...</td>\n",
       "      <td>0.166540</td>\n",
       "    </tr>\n",
       "    <tr>\n",
       "      <th>426</th>\n",
       "      <td>-2.246013</td>\n",
       "      <td>ad_unit_3_device-_billboard6-mobile</td>\n",
       "      <td>0.095694</td>\n",
       "    </tr>\n",
       "  </tbody>\n",
       "</table>\n",
       "</div>"
      ],
      "text/plain": [
       "         coef                                            feature      prob\n",
       "311 -1.264453  ad_unit_1_order-_8032374_VAL_ONE_003_Digital C...  0.220208\n",
       "31  -1.265617  ad_unit_1_order-_20001921_Stiolto Q3/Q4 2017_7...  0.220009\n",
       "80  -1.309908  ad_unit_1_order-_20080945_Walgreens FY18-MEDD-...  0.212502\n",
       "237 -1.355976  ad_unit_1_order-_7030614_Dignity Health_CHMC O...  0.204895\n",
       "286 -1.383032  ad_unit_1_order-_7857534_FCAC Always On Campai...  0.200523\n",
       "431 -1.454826          ad_unit_3_device-_billboardmobile2-mobile  0.189260\n",
       "30  -1.538015  ad_unit_1_order-_20001921_Stiolto Q3/Q4 2017_7...  0.176824\n",
       "396 -1.590701  ad_unit_1_order-_The Spruce - QA & Testing-The...  0.169285\n",
       "26  -1.610347  ad_unit_1_order-_19999038_The Home Depot_Q3 Sm...  0.166540\n",
       "426 -2.246013                ad_unit_3_device-_billboard6-mobile  0.095694"
      ]
     },
     "execution_count": 503,
     "metadata": {},
     "output_type": "execute_result"
    }
   ],
   "source": [
    "feat_coef.sort_values(by='coef',ascending=False).tail(10)"
   ]
  },
  {
   "cell_type": "markdown",
   "metadata": {},
   "source": [
    "The same features are generally still in the top and bottom 20."
   ]
  },
  {
   "cell_type": "markdown",
   "metadata": {},
   "source": [
    "## Random Forest Classifier"
   ]
  },
  {
   "cell_type": "markdown",
   "metadata": {},
   "source": [
    "Set max_features to auto.\n",
    "\n",
    "Set n_estimators to 150 for now, come back and test for ideal performance."
   ]
  },
  {
   "cell_type": "markdown",
   "metadata": {},
   "source": [
    "### Generate model"
   ]
  },
  {
   "cell_type": "code",
   "execution_count": 465,
   "metadata": {},
   "outputs": [
    {
     "data": {
      "text/plain": [
       "RandomForestClassifier(bootstrap=True, class_weight=None, criterion='gini',\n",
       "            max_depth=None, max_features='auto', max_leaf_nodes=None,\n",
       "            min_impurity_decrease=0.0, min_impurity_split=None,\n",
       "            min_samples_leaf=1, min_samples_split=2,\n",
       "            min_weight_fraction_leaf=0.0, n_estimators=150, n_jobs=1,\n",
       "            oob_score=True, random_state=1, verbose=0, warm_start=False)"
      ]
     },
     "execution_count": 465,
     "metadata": {},
     "output_type": "execute_result"
    }
   ],
   "source": [
    "rfreg = RandomForestClassifier(\n",
    "    n_estimators=150, \n",
    "    max_features='auto', \n",
    "    oob_score=True, \n",
    "    random_state=1\n",
    ")\n",
    "\n",
    "rfreg.fit(X_train, y_train)"
   ]
  },
  {
   "cell_type": "code",
   "execution_count": 466,
   "metadata": {},
   "outputs": [],
   "source": [
    "y_pred = rfreg.predict(X_test)"
   ]
  },
  {
   "cell_type": "markdown",
   "metadata": {},
   "source": [
    "#### Compute feature importances"
   ]
  },
  {
   "cell_type": "code",
   "execution_count": 13,
   "metadata": {},
   "outputs": [],
   "source": [
    "#pd.DataFrame({'feature':feature_cols2, 'importance':rfreg.feature_importances_}).sort_values(by='importance', ascending=False).head(20)"
   ]
  },
  {
   "cell_type": "markdown",
   "metadata": {},
   "source": [
    "Interesting, random forest took big groupings (e.g. ad placements), and the specific ad campaigns/creatives' effects are diminished.\n",
    "\n",
    "Also, **728x90s** which we know perform rather poorly are at the top of the list for feature importance, because it's a **strong** influencer of CTR, but we don't technically know which way. "
   ]
  },
  {
   "cell_type": "markdown",
   "metadata": {},
   "source": [
    "#### Compute OOB Score"
   ]
  },
  {
   "cell_type": "code",
   "execution_count": 468,
   "metadata": {},
   "outputs": [
    {
     "name": "stdout",
     "output_type": "stream",
     "text": [
      "0.758437416955\n"
     ]
    }
   ],
   "source": [
    "\n",
    "# Compute the out-of-bag R-squared score.\n",
    "print(rfreg.oob_score_)"
   ]
  },
  {
   "cell_type": "code",
   "execution_count": 469,
   "metadata": {},
   "outputs": [
    {
     "data": {
      "text/plain": [
       "0.98299229338293914"
      ]
     },
     "execution_count": 469,
     "metadata": {},
     "output_type": "execute_result"
    }
   ],
   "source": [
    "rfreg.score(X_train,y_train)"
   ]
  },
  {
   "cell_type": "code",
   "execution_count": 470,
   "metadata": {},
   "outputs": [],
   "source": [
    "### whoa"
   ]
  },
  {
   "cell_type": "code",
   "execution_count": 471,
   "metadata": {},
   "outputs": [
    {
     "data": {
      "text/plain": [
       "0.74707757704569611"
      ]
     },
     "execution_count": 471,
     "metadata": {},
     "output_type": "execute_result"
    }
   ],
   "source": [
    "acc = rfreg.score(X_test,y_test)\n",
    "acc"
   ]
  },
  {
   "cell_type": "markdown",
   "metadata": {},
   "source": [
    "Nice. This is the best performing model! Although I lose interpretability."
   ]
  },
  {
   "cell_type": "code",
   "execution_count": 472,
   "metadata": {},
   "outputs": [
    {
     "data": {
      "text/plain": [
       "0.6635765964474849"
      ]
     },
     "execution_count": 472,
     "metadata": {},
     "output_type": "execute_result"
    }
   ],
   "source": [
    "auroc = metrics.roc_auc_score(\n",
    "    y_true=y_test,\n",
    "    y_score=y_pred,\n",
    "    average=None\n",
    ")\n",
    "auroc"
   ]
  },
  {
   "cell_type": "markdown",
   "metadata": {},
   "source": [
    "### Calculate Confusion Matrix"
   ]
  },
  {
   "cell_type": "code",
   "execution_count": 473,
   "metadata": {},
   "outputs": [
    {
     "data": {
      "text/plain": [
       "array([[574,  80],\n",
       "       [158, 129]])"
      ]
     },
     "execution_count": 473,
     "metadata": {},
     "output_type": "execute_result"
    }
   ],
   "source": [
    "metrics.confusion_matrix(\n",
    "    y_true=y_test,\n",
    "    y_pred=y_pred\n",
    ")"
   ]
  },
  {
   "cell_type": "code",
   "execution_count": 474,
   "metadata": {},
   "outputs": [
    {
     "name": "stdout",
     "output_type": "stream",
     "text": [
      "             precision    recall  f1-score   support\n",
      "\n",
      "          0       0.78      0.88      0.83       654\n",
      "          1       0.62      0.45      0.52       287\n",
      "\n",
      "avg / total       0.73      0.75      0.73       941\n",
      "\n"
     ]
    }
   ],
   "source": [
    "print metrics.classification_report(\n",
    "    y_true=y_test,\n",
    "    y_pred=y_pred\n",
    ")"
   ]
  },
  {
   "cell_type": "markdown",
   "metadata": {},
   "source": [
    "Precision more balanced, but recall is less."
   ]
  },
  {
   "cell_type": "code",
   "execution_count": 475,
   "metadata": {},
   "outputs": [
    {
     "data": {
      "text/plain": [
       "0.44947735191637633"
      ]
     },
     "execution_count": 475,
     "metadata": {},
     "output_type": "execute_result"
    }
   ],
   "source": [
    "recall = metrics.recall_score(\n",
    "    y_true=y_test,\n",
    "    y_pred=y_pred\n",
    ")\n",
    "recall"
   ]
  },
  {
   "cell_type": "code",
   "execution_count": 476,
   "metadata": {
    "scrolled": true
   },
   "outputs": [
    {
     "data": {
      "text/plain": [
       "[{'AUROC': 0.70899796481582122,\n",
       "  'accuracy': 0.77895855472901165,\n",
       "  'model_name': 'LogReg_Bin',\n",
       "  'recall': 0.52961672473867594},\n",
       " {'AUROC': 0.73227471789789966,\n",
       "  'accuracy': 0.73113708820403822,\n",
       "  'model_name': 'LogReg_Bin_Bal',\n",
       "  'recall': 0.73519163763066198},\n",
       " {'AUROC': 0.74939530522434983,\n",
       "  'accuracy': 0.74814027630180657,\n",
       "  'model_name': 'LogReg_Bin_Bal_GSCV',\n",
       "  'recall': 0.7526132404181185},\n",
       " {'AUROC': 0.73588423957634075,\n",
       "  'accuracy': 0.73751328374070135,\n",
       "  'model_name': 'LogReg_Multi',\n",
       "  'recall': 0.73170731707317072},\n",
       " {'AUROC': 0.51045296167247389,\n",
       "  'accuracy': 0.70138150903294372,\n",
       "  'model_name': 'LogReg_Multi_GSCV',\n",
       "  'recall': 0.020905923344947737},\n",
       " {'AUROC': 0.6635765964474849,\n",
       "  'accuracy': 0.74707757704569611,\n",
       "  'model_name': 'RandForestClass',\n",
       "  'recall': 0.44947735191637633}]"
      ]
     },
     "execution_count": 476,
     "metadata": {},
     "output_type": "execute_result"
    }
   ],
   "source": [
    "# add_score(model_name,accuracy,AUROC,recall)\n",
    "add_score('RandForestClass',acc,auroc,recall)"
   ]
  },
  {
   "cell_type": "markdown",
   "metadata": {},
   "source": [
    "### Tuning max_features & n_estimators"
   ]
  },
  {
   "cell_type": "markdown",
   "metadata": {},
   "source": [
    "#### Tune max_features"
   ]
  },
  {
   "cell_type": "code",
   "execution_count": 252,
   "metadata": {},
   "outputs": [],
   "source": [
    "max_features_options = [1,2,3,4,5,6,7,8,9,10,11,12,13,14,15,16,17,18,19,20]"
   ]
  },
  {
   "cell_type": "code",
   "execution_count": 253,
   "metadata": {},
   "outputs": [],
   "source": [
    "max_features = []\n",
    "score = []"
   ]
  },
  {
   "cell_type": "code",
   "execution_count": 254,
   "metadata": {},
   "outputs": [],
   "source": [
    "\n",
    "for each in max_features_options:\n",
    "    rfreg = RandomForestClassifier(\n",
    "    n_estimators=150, \n",
    "    max_features=each, \n",
    "    oob_score=True, \n",
    "    random_state=1\n",
    ")\n",
    "    rfreg.fit(X_train, y_train)\n",
    "    max_features.append(each)\n",
    "    score.append(rfreg.score(X_test,y_test))\n",
    "    "
   ]
  },
  {
   "cell_type": "code",
   "execution_count": 256,
   "metadata": {},
   "outputs": [
    {
     "data": {
      "text/html": [
       "<div>\n",
       "<style>\n",
       "    .dataframe thead tr:only-child th {\n",
       "        text-align: right;\n",
       "    }\n",
       "\n",
       "    .dataframe thead th {\n",
       "        text-align: left;\n",
       "    }\n",
       "\n",
       "    .dataframe tbody tr th {\n",
       "        vertical-align: top;\n",
       "    }\n",
       "</style>\n",
       "<table border=\"1\" class=\"dataframe\">\n",
       "  <thead>\n",
       "    <tr style=\"text-align: right;\">\n",
       "      <th></th>\n",
       "      <th>max_features</th>\n",
       "      <th>score</th>\n",
       "    </tr>\n",
       "  </thead>\n",
       "  <tbody>\n",
       "    <tr>\n",
       "      <th>0</th>\n",
       "      <td>1</td>\n",
       "      <td>0.730074</td>\n",
       "    </tr>\n",
       "    <tr>\n",
       "      <th>1</th>\n",
       "      <td>2</td>\n",
       "      <td>0.733262</td>\n",
       "    </tr>\n",
       "    <tr>\n",
       "      <th>2</th>\n",
       "      <td>3</td>\n",
       "      <td>0.750266</td>\n",
       "    </tr>\n",
       "    <tr>\n",
       "      <th>3</th>\n",
       "      <td>4</td>\n",
       "      <td>0.751328</td>\n",
       "    </tr>\n",
       "    <tr>\n",
       "      <th>4</th>\n",
       "      <td>5</td>\n",
       "      <td>0.744952</td>\n",
       "    </tr>\n",
       "    <tr>\n",
       "      <th>5</th>\n",
       "      <td>6</td>\n",
       "      <td>0.751328</td>\n",
       "    </tr>\n",
       "    <tr>\n",
       "      <th>6</th>\n",
       "      <td>7</td>\n",
       "      <td>0.755579</td>\n",
       "    </tr>\n",
       "    <tr>\n",
       "      <th>7</th>\n",
       "      <td>8</td>\n",
       "      <td>0.746015</td>\n",
       "    </tr>\n",
       "    <tr>\n",
       "      <th>8</th>\n",
       "      <td>9</td>\n",
       "      <td>0.753454</td>\n",
       "    </tr>\n",
       "    <tr>\n",
       "      <th>9</th>\n",
       "      <td>10</td>\n",
       "      <td>0.755579</td>\n",
       "    </tr>\n",
       "    <tr>\n",
       "      <th>10</th>\n",
       "      <td>11</td>\n",
       "      <td>0.753454</td>\n",
       "    </tr>\n",
       "    <tr>\n",
       "      <th>11</th>\n",
       "      <td>12</td>\n",
       "      <td>0.751328</td>\n",
       "    </tr>\n",
       "    <tr>\n",
       "      <th>12</th>\n",
       "      <td>13</td>\n",
       "      <td>0.751328</td>\n",
       "    </tr>\n",
       "    <tr>\n",
       "      <th>13</th>\n",
       "      <td>14</td>\n",
       "      <td>0.749203</td>\n",
       "    </tr>\n",
       "    <tr>\n",
       "      <th>14</th>\n",
       "      <td>15</td>\n",
       "      <td>0.747078</td>\n",
       "    </tr>\n",
       "    <tr>\n",
       "      <th>15</th>\n",
       "      <td>16</td>\n",
       "      <td>0.748140</td>\n",
       "    </tr>\n",
       "    <tr>\n",
       "      <th>16</th>\n",
       "      <td>17</td>\n",
       "      <td>0.753454</td>\n",
       "    </tr>\n",
       "    <tr>\n",
       "      <th>17</th>\n",
       "      <td>18</td>\n",
       "      <td>0.747078</td>\n",
       "    </tr>\n",
       "    <tr>\n",
       "      <th>18</th>\n",
       "      <td>19</td>\n",
       "      <td>0.750266</td>\n",
       "    </tr>\n",
       "    <tr>\n",
       "      <th>19</th>\n",
       "      <td>20</td>\n",
       "      <td>0.748140</td>\n",
       "    </tr>\n",
       "  </tbody>\n",
       "</table>\n",
       "</div>"
      ],
      "text/plain": [
       "    max_features     score\n",
       "0              1  0.730074\n",
       "1              2  0.733262\n",
       "2              3  0.750266\n",
       "3              4  0.751328\n",
       "4              5  0.744952\n",
       "5              6  0.751328\n",
       "6              7  0.755579\n",
       "7              8  0.746015\n",
       "8              9  0.753454\n",
       "9             10  0.755579\n",
       "10            11  0.753454\n",
       "11            12  0.751328\n",
       "12            13  0.751328\n",
       "13            14  0.749203\n",
       "14            15  0.747078\n",
       "15            16  0.748140\n",
       "16            17  0.753454\n",
       "17            18  0.747078\n",
       "18            19  0.750266\n",
       "19            20  0.748140"
      ]
     },
     "execution_count": 256,
     "metadata": {},
     "output_type": "execute_result"
    }
   ],
   "source": [
    "max_features_tuning = pd.DataFrame(\n",
    "{\n",
    "    'max_features': max_features,\n",
    "    'score': score\n",
    "})\n",
    "max_features_tuning"
   ]
  },
  {
   "cell_type": "markdown",
   "metadata": {},
   "source": [
    "Peaked at 10. max_features should be set to **10**. Curious which 10 features these will be…"
   ]
  },
  {
   "cell_type": "markdown",
   "metadata": {},
   "source": [
    "#### Tune n_estimators"
   ]
  },
  {
   "cell_type": "code",
   "execution_count": 257,
   "metadata": {},
   "outputs": [],
   "source": [
    "n_estimators_options = [1,5,10,15,20,50,100,150,250,400,500]"
   ]
  },
  {
   "cell_type": "code",
   "execution_count": 258,
   "metadata": {},
   "outputs": [],
   "source": [
    "n_estimators = []\n",
    "score = []"
   ]
  },
  {
   "cell_type": "code",
   "execution_count": 259,
   "metadata": {},
   "outputs": [
    {
     "name": "stderr",
     "output_type": "stream",
     "text": [
      "/Users/jennifersun/anaconda/lib/python2.7/site-packages/sklearn/ensemble/forest.py:451: UserWarning: Some inputs do not have OOB scores. This probably means too few trees were used to compute any reliable oob estimates.\n",
      "  warn(\"Some inputs do not have OOB scores. \"\n",
      "/Users/jennifersun/anaconda/lib/python2.7/site-packages/sklearn/ensemble/forest.py:456: RuntimeWarning: invalid value encountered in true_divide\n",
      "  predictions[k].sum(axis=1)[:, np.newaxis])\n"
     ]
    }
   ],
   "source": [
    "\n",
    "for each in n_estimators_options:\n",
    "    rfreg = RandomForestClassifier(\n",
    "    n_estimators=each, \n",
    "    max_features=10, \n",
    "    oob_score=True, \n",
    "    random_state=1\n",
    ")\n",
    "    rfreg.fit(X_train, y_train)\n",
    "    n_estimators.append(each)\n",
    "    score.append(rfreg.score(X_test,y_test))\n",
    "    "
   ]
  },
  {
   "cell_type": "code",
   "execution_count": 260,
   "metadata": {},
   "outputs": [
    {
     "data": {
      "text/html": [
       "<div>\n",
       "<style>\n",
       "    .dataframe thead tr:only-child th {\n",
       "        text-align: right;\n",
       "    }\n",
       "\n",
       "    .dataframe thead th {\n",
       "        text-align: left;\n",
       "    }\n",
       "\n",
       "    .dataframe tbody tr th {\n",
       "        vertical-align: top;\n",
       "    }\n",
       "</style>\n",
       "<table border=\"1\" class=\"dataframe\">\n",
       "  <thead>\n",
       "    <tr style=\"text-align: right;\">\n",
       "      <th></th>\n",
       "      <th>n_estimators</th>\n",
       "      <th>score</th>\n",
       "    </tr>\n",
       "  </thead>\n",
       "  <tbody>\n",
       "    <tr>\n",
       "      <th>0</th>\n",
       "      <td>1</td>\n",
       "      <td>0.693943</td>\n",
       "    </tr>\n",
       "    <tr>\n",
       "      <th>1</th>\n",
       "      <td>5</td>\n",
       "      <td>0.722635</td>\n",
       "    </tr>\n",
       "    <tr>\n",
       "      <th>2</th>\n",
       "      <td>10</td>\n",
       "      <td>0.740701</td>\n",
       "    </tr>\n",
       "    <tr>\n",
       "      <th>3</th>\n",
       "      <td>15</td>\n",
       "      <td>0.744952</td>\n",
       "    </tr>\n",
       "    <tr>\n",
       "      <th>4</th>\n",
       "      <td>20</td>\n",
       "      <td>0.740701</td>\n",
       "    </tr>\n",
       "    <tr>\n",
       "      <th>5</th>\n",
       "      <td>50</td>\n",
       "      <td>0.744952</td>\n",
       "    </tr>\n",
       "    <tr>\n",
       "      <th>6</th>\n",
       "      <td>100</td>\n",
       "      <td>0.758767</td>\n",
       "    </tr>\n",
       "    <tr>\n",
       "      <th>7</th>\n",
       "      <td>150</td>\n",
       "      <td>0.755579</td>\n",
       "    </tr>\n",
       "    <tr>\n",
       "      <th>8</th>\n",
       "      <td>250</td>\n",
       "      <td>0.761955</td>\n",
       "    </tr>\n",
       "    <tr>\n",
       "      <th>9</th>\n",
       "      <td>400</td>\n",
       "      <td>0.760893</td>\n",
       "    </tr>\n",
       "    <tr>\n",
       "      <th>10</th>\n",
       "      <td>500</td>\n",
       "      <td>0.759830</td>\n",
       "    </tr>\n",
       "  </tbody>\n",
       "</table>\n",
       "</div>"
      ],
      "text/plain": [
       "    n_estimators     score\n",
       "0              1  0.693943\n",
       "1              5  0.722635\n",
       "2             10  0.740701\n",
       "3             15  0.744952\n",
       "4             20  0.740701\n",
       "5             50  0.744952\n",
       "6            100  0.758767\n",
       "7            150  0.755579\n",
       "8            250  0.761955\n",
       "9            400  0.760893\n",
       "10           500  0.759830"
      ]
     },
     "execution_count": 260,
     "metadata": {},
     "output_type": "execute_result"
    }
   ],
   "source": [
    "n_estimators_tuning = pd.DataFrame(\n",
    "{\n",
    "    'n_estimators': n_estimators,\n",
    "    'score': score\n",
    "})\n",
    "n_estimators_tuning"
   ]
  },
  {
   "cell_type": "markdown",
   "metadata": {},
   "source": [
    "**250 trees** it is — at this point these miniscule improvements to the model are probably overfitting my model and not really adding much to interpretability. But I'm doing for the sake of the exercise."
   ]
  },
  {
   "cell_type": "markdown",
   "metadata": {},
   "source": [
    "### Refit model with tuned hyperparameters"
   ]
  },
  {
   "cell_type": "code",
   "execution_count": 477,
   "metadata": {},
   "outputs": [
    {
     "data": {
      "text/plain": [
       "RandomForestClassifier(bootstrap=True, class_weight=None, criterion='gini',\n",
       "            max_depth=None, max_features=10, max_leaf_nodes=None,\n",
       "            min_impurity_decrease=0.0, min_impurity_split=None,\n",
       "            min_samples_leaf=1, min_samples_split=2,\n",
       "            min_weight_fraction_leaf=0.0, n_estimators=250, n_jobs=1,\n",
       "            oob_score=True, random_state=1, verbose=0, warm_start=False)"
      ]
     },
     "execution_count": 477,
     "metadata": {},
     "output_type": "execute_result"
    }
   ],
   "source": [
    "rfreg = RandomForestClassifier(\n",
    "    n_estimators=250, \n",
    "    max_features=10, \n",
    "    oob_score=True, \n",
    "    random_state=1\n",
    ")\n",
    "\n",
    "rfreg.fit(X_train, y_train)"
   ]
  },
  {
   "cell_type": "code",
   "execution_count": 478,
   "metadata": {},
   "outputs": [],
   "source": [
    "y_pred = rfreg.predict(X_test)"
   ]
  },
  {
   "cell_type": "code",
   "execution_count": 14,
   "metadata": {},
   "outputs": [],
   "source": [
    "#pd.DataFrame({'feature':feature_cols2, 'importance':rfreg.feature_importances_}).sort_values(by='importance', ascending=False).head(20)"
   ]
  },
  {
   "cell_type": "code",
   "execution_count": 480,
   "metadata": {},
   "outputs": [
    {
     "name": "stdout",
     "output_type": "stream",
     "text": [
      "0.759766144034\n",
      "0.982992293383\n"
     ]
    },
    {
     "data": {
      "text/plain": [
       "0.7619553666312433"
      ]
     },
     "execution_count": 480,
     "metadata": {},
     "output_type": "execute_result"
    }
   ],
   "source": [
    "\n",
    "# Compute the out-of-bag R-squared score.\n",
    "print(rfreg.oob_score_)\n",
    "print rfreg.score(X_train,y_train)\n",
    "acc = rfreg.score(X_test,y_test)\n",
    "acc"
   ]
  },
  {
   "cell_type": "markdown",
   "metadata": {},
   "source": [
    "Fun, model accuracy went up by 2% … but didn't change interpretability one bit."
   ]
  },
  {
   "cell_type": "markdown",
   "metadata": {},
   "source": [
    "### Calculate Confusion Matrix"
   ]
  },
  {
   "cell_type": "code",
   "execution_count": 481,
   "metadata": {},
   "outputs": [
    {
     "data": {
      "text/plain": [
       "array([[586,  68],\n",
       "       [156, 131]])"
      ]
     },
     "execution_count": 481,
     "metadata": {},
     "output_type": "execute_result"
    }
   ],
   "source": [
    "metrics.confusion_matrix(\n",
    "    y_true=y_test,\n",
    "    y_pred=y_pred\n",
    ")"
   ]
  },
  {
   "cell_type": "code",
   "execution_count": 482,
   "metadata": {},
   "outputs": [
    {
     "name": "stdout",
     "output_type": "stream",
     "text": [
      "             precision    recall  f1-score   support\n",
      "\n",
      "          0       0.79      0.90      0.84       654\n",
      "          1       0.66      0.46      0.54       287\n",
      "\n",
      "avg / total       0.75      0.76      0.75       941\n",
      "\n"
     ]
    }
   ],
   "source": [
    "print metrics.classification_report(\n",
    "    y_true=y_test,\n",
    "    y_pred=y_pred\n",
    ")"
   ]
  },
  {
   "cell_type": "markdown",
   "metadata": {},
   "source": [
    "Precision decreased, but recall increased."
   ]
  },
  {
   "cell_type": "code",
   "execution_count": 483,
   "metadata": {},
   "outputs": [
    {
     "data": {
      "text/plain": [
       "0.67623522893158161"
      ]
     },
     "execution_count": 483,
     "metadata": {},
     "output_type": "execute_result"
    }
   ],
   "source": [
    "auroc = metrics.roc_auc_score(\n",
    "    y_true=y_test,\n",
    "    y_score=y_pred,\n",
    "    average=None\n",
    ")\n",
    "auroc"
   ]
  },
  {
   "cell_type": "code",
   "execution_count": 484,
   "metadata": {},
   "outputs": [
    {
     "data": {
      "text/plain": [
       "0.45644599303135891"
      ]
     },
     "execution_count": 484,
     "metadata": {},
     "output_type": "execute_result"
    }
   ],
   "source": [
    "recall = metrics.recall_score(\n",
    "    y_true=y_test,\n",
    "    y_pred=y_pred\n",
    ")\n",
    "recall"
   ]
  },
  {
   "cell_type": "code",
   "execution_count": 485,
   "metadata": {
    "scrolled": true
   },
   "outputs": [
    {
     "data": {
      "text/plain": [
       "[{'AUROC': 0.70899796481582122,\n",
       "  'accuracy': 0.77895855472901165,\n",
       "  'model_name': 'LogReg_Bin',\n",
       "  'recall': 0.52961672473867594},\n",
       " {'AUROC': 0.73227471789789966,\n",
       "  'accuracy': 0.73113708820403822,\n",
       "  'model_name': 'LogReg_Bin_Bal',\n",
       "  'recall': 0.73519163763066198},\n",
       " {'AUROC': 0.74939530522434983,\n",
       "  'accuracy': 0.74814027630180657,\n",
       "  'model_name': 'LogReg_Bin_Bal_GSCV',\n",
       "  'recall': 0.7526132404181185},\n",
       " {'AUROC': 0.73588423957634075,\n",
       "  'accuracy': 0.73751328374070135,\n",
       "  'model_name': 'LogReg_Multi',\n",
       "  'recall': 0.73170731707317072},\n",
       " {'AUROC': 0.51045296167247389,\n",
       "  'accuracy': 0.70138150903294372,\n",
       "  'model_name': 'LogReg_Multi_GSCV',\n",
       "  'recall': 0.020905923344947737},\n",
       " {'AUROC': 0.6635765964474849,\n",
       "  'accuracy': 0.74707757704569611,\n",
       "  'model_name': 'RandForestClass',\n",
       "  'recall': 0.44947735191637633},\n",
       " {'AUROC': 0.67623522893158161,\n",
       "  'accuracy': 0.7619553666312433,\n",
       "  'model_name': 'RandForestClass_Tuned',\n",
       "  'recall': 0.45644599303135891}]"
      ]
     },
     "execution_count": 485,
     "metadata": {},
     "output_type": "execute_result"
    }
   ],
   "source": [
    "# add_score(model_name,accuracy,AUROC,recall)\n",
    "add_score('RandForestClass_Tuned',acc,auroc,recall)"
   ]
  },
  {
   "cell_type": "markdown",
   "metadata": {},
   "source": [
    "## Field-Aware Factorization Machines"
   ]
  },
  {
   "cell_type": "markdown",
   "metadata": {},
   "source": [
    "A description of __[Field-aware Factorization Machines](https://www.csie.ntu.edu.tw/~r01922136/slides/ffm.pdf)__ from the folks who won two Kaggle competitions with the model.\n",
    "\n",
    "And __[here](https://github.com/mglowacki100/libffm-python)__ is a Python wrapper for the FFM library, which was written in C++."
   ]
  },
  {
   "cell_type": "code",
   "execution_count": 320,
   "metadata": {},
   "outputs": [
    {
     "ename": "ImportError",
     "evalue": "No module named ffm",
     "output_type": "error",
     "traceback": [
      "\u001b[0;31m---------------------------------------------------------------------------\u001b[0m",
      "\u001b[0;31mImportError\u001b[0m                               Traceback (most recent call last)",
      "\u001b[0;32m<ipython-input-320-244abf364e9b>\u001b[0m in \u001b[0;36m<module>\u001b[0;34m()\u001b[0m\n\u001b[0;32m----> 1\u001b[0;31m \u001b[0;32mimport\u001b[0m \u001b[0mffm\u001b[0m\u001b[0;34m\u001b[0m\u001b[0m\n\u001b[0m",
      "\u001b[0;31mImportError\u001b[0m: No module named ffm"
     ]
    }
   ],
   "source": [
    "import ffm"
   ]
  },
  {
   "cell_type": "markdown",
   "metadata": {},
   "source": [
    "Alas, I couldn't get the library to work. Seems like the error lies in the gcc compiler, which I had to download and upgrade several times. I'm stuck with this error:"
   ]
  },
  {
   "cell_type": "markdown",
   "metadata": {},
   "source": [
    "```g++ -Wall -O3 -std=c++0x -march=native -fopenmp -DUSESSE -DUSEOMP -fPIC -c -o timer.o timer.cpp\n",
    "/var/folders/30/nm2sfklx0_z7972s169n8p900000gn/T//ccVbLqTB.s:73:no such instruction: `vxorps %xmm0, %xmm0,%xmm0'\n",
    "/var/folders/30/nm2sfklx0_z7972s169n8p900000gn/T//ccVbLqTB.s:82:no such instruction: `vcvtsi2ssq %rdx, %xmm0,%xmm0'\n",
    "/var/folders/30/nm2sfklx0_z7972s169n8p900000gn/T//ccVbLqTB.s:85:no such instruction: `vdivss lC0(%rip), %xmm0,%xmm0'\n",
    "/var/folders/30/nm2sfklx0_z7972s169n8p900000gn/T//ccVbLqTB.s:93:no such instruction: `vxorps %xmm0, %xmm0,%xmm0'\n",
    "/var/folders/30/nm2sfklx0_z7972s169n8p900000gn/T//ccVbLqTB.s:94:no such instruction: `vcvtsi2ssq 8(%rdi), %xmm0,%xmm0'\n",
    "/var/folders/30/nm2sfklx0_z7972s169n8p900000gn/T//ccVbLqTB.s:95:no such instruction: `vdivss lC0(%rip), %xmm0,%xmm0'\n",
    "make: *** [timer.o] Error 1```"
   ]
  },
  {
   "cell_type": "markdown",
   "metadata": {},
   "source": [
    "## Ensembling & Model Comparison"
   ]
  },
  {
   "cell_type": "code",
   "execution_count": 486,
   "metadata": {},
   "outputs": [
    {
     "data": {
      "text/plain": [
       "[{'AUROC': 0.70899796481582122,\n",
       "  'accuracy': 0.77895855472901165,\n",
       "  'model_name': 'LogReg_Bin',\n",
       "  'recall': 0.52961672473867594},\n",
       " {'AUROC': 0.73227471789789966,\n",
       "  'accuracy': 0.73113708820403822,\n",
       "  'model_name': 'LogReg_Bin_Bal',\n",
       "  'recall': 0.73519163763066198},\n",
       " {'AUROC': 0.74939530522434983,\n",
       "  'accuracy': 0.74814027630180657,\n",
       "  'model_name': 'LogReg_Bin_Bal_GSCV',\n",
       "  'recall': 0.7526132404181185},\n",
       " {'AUROC': 0.73588423957634075,\n",
       "  'accuracy': 0.73751328374070135,\n",
       "  'model_name': 'LogReg_Multi',\n",
       "  'recall': 0.73170731707317072},\n",
       " {'AUROC': 0.51045296167247389,\n",
       "  'accuracy': 0.70138150903294372,\n",
       "  'model_name': 'LogReg_Multi_GSCV',\n",
       "  'recall': 0.020905923344947737},\n",
       " {'AUROC': 0.6635765964474849,\n",
       "  'accuracy': 0.74707757704569611,\n",
       "  'model_name': 'RandForestClass',\n",
       "  'recall': 0.44947735191637633},\n",
       " {'AUROC': 0.67623522893158161,\n",
       "  'accuracy': 0.7619553666312433,\n",
       "  'model_name': 'RandForestClass_Tuned',\n",
       "  'recall': 0.45644599303135891}]"
      ]
     },
     "execution_count": 486,
     "metadata": {},
     "output_type": "execute_result"
    }
   ],
   "source": [
    "final_scores"
   ]
  },
  {
   "cell_type": "code",
   "execution_count": 487,
   "metadata": {},
   "outputs": [],
   "source": [
    "df_scores = pd.DataFrame(final_scores)"
   ]
  },
  {
   "cell_type": "code",
   "execution_count": 488,
   "metadata": {},
   "outputs": [
    {
     "data": {
      "text/html": [
       "<div>\n",
       "<style>\n",
       "    .dataframe thead tr:only-child th {\n",
       "        text-align: right;\n",
       "    }\n",
       "\n",
       "    .dataframe thead th {\n",
       "        text-align: left;\n",
       "    }\n",
       "\n",
       "    .dataframe tbody tr th {\n",
       "        vertical-align: top;\n",
       "    }\n",
       "</style>\n",
       "<table border=\"1\" class=\"dataframe\">\n",
       "  <thead>\n",
       "    <tr style=\"text-align: right;\">\n",
       "      <th></th>\n",
       "      <th>AUROC</th>\n",
       "      <th>accuracy</th>\n",
       "      <th>model_name</th>\n",
       "      <th>recall</th>\n",
       "    </tr>\n",
       "  </thead>\n",
       "  <tbody>\n",
       "    <tr>\n",
       "      <th>0</th>\n",
       "      <td>0.708998</td>\n",
       "      <td>0.778959</td>\n",
       "      <td>LogReg_Bin</td>\n",
       "      <td>0.529617</td>\n",
       "    </tr>\n",
       "    <tr>\n",
       "      <th>1</th>\n",
       "      <td>0.732275</td>\n",
       "      <td>0.731137</td>\n",
       "      <td>LogReg_Bin_Bal</td>\n",
       "      <td>0.735192</td>\n",
       "    </tr>\n",
       "    <tr>\n",
       "      <th>2</th>\n",
       "      <td>0.749395</td>\n",
       "      <td>0.748140</td>\n",
       "      <td>LogReg_Bin_Bal_GSCV</td>\n",
       "      <td>0.752613</td>\n",
       "    </tr>\n",
       "    <tr>\n",
       "      <th>3</th>\n",
       "      <td>0.735884</td>\n",
       "      <td>0.737513</td>\n",
       "      <td>LogReg_Multi</td>\n",
       "      <td>0.731707</td>\n",
       "    </tr>\n",
       "    <tr>\n",
       "      <th>4</th>\n",
       "      <td>0.510453</td>\n",
       "      <td>0.701382</td>\n",
       "      <td>LogReg_Multi_GSCV</td>\n",
       "      <td>0.020906</td>\n",
       "    </tr>\n",
       "    <tr>\n",
       "      <th>5</th>\n",
       "      <td>0.663577</td>\n",
       "      <td>0.747078</td>\n",
       "      <td>RandForestClass</td>\n",
       "      <td>0.449477</td>\n",
       "    </tr>\n",
       "    <tr>\n",
       "      <th>6</th>\n",
       "      <td>0.676235</td>\n",
       "      <td>0.761955</td>\n",
       "      <td>RandForestClass_Tuned</td>\n",
       "      <td>0.456446</td>\n",
       "    </tr>\n",
       "  </tbody>\n",
       "</table>\n",
       "</div>"
      ],
      "text/plain": [
       "      AUROC  accuracy             model_name    recall\n",
       "0  0.708998  0.778959             LogReg_Bin  0.529617\n",
       "1  0.732275  0.731137         LogReg_Bin_Bal  0.735192\n",
       "2  0.749395  0.748140    LogReg_Bin_Bal_GSCV  0.752613\n",
       "3  0.735884  0.737513           LogReg_Multi  0.731707\n",
       "4  0.510453  0.701382      LogReg_Multi_GSCV  0.020906\n",
       "5  0.663577  0.747078        RandForestClass  0.449477\n",
       "6  0.676235  0.761955  RandForestClass_Tuned  0.456446"
      ]
     },
     "execution_count": 488,
     "metadata": {},
     "output_type": "execute_result"
    }
   ],
   "source": [
    "df_scores"
   ]
  },
  {
   "cell_type": "code",
   "execution_count": 499,
   "metadata": {},
   "outputs": [
    {
     "data": {
      "image/png": "[encoded data removed]",
      "text/plain": [
       "<matplotlib.figure.Figure at 0x12efa5f10>"
      ]
     },
     "metadata": {},
     "output_type": "display_data"
    }
   ],
   "source": [
    "## h/t Chris Albon again\n",
    "## https://chrisalbon.com/python/matplotlib_grouped_bar_plot.html\n",
    "\n",
    "# Setting the positions and width for the bars\n",
    "pos = list(range(len(df_scores['AUROC']))) \n",
    "width = 0.25 \n",
    "\n",
    "# Plotting the bars\n",
    "fig, ax = plt.subplots(figsize=(10,5))\n",
    "\n",
    "# Create a bar with pre_score data,\n",
    "# in position pos,\n",
    "plt.bar(pos, \n",
    "        #using df['pre_score'] data,\n",
    "        df_scores['AUROC'], \n",
    "        # of width\n",
    "        width, \n",
    "        # with alpha 0.5\n",
    "        alpha=0.5, \n",
    "        # with color\n",
    "        color='#EE3224', \n",
    "        # with label the first value in first_name\n",
    "        label=df_scores['model_name'][0]) \n",
    "\n",
    "# Create a bar with mid_score data,\n",
    "# in position pos + some width buffer,\n",
    "plt.bar([p + width for p in pos], \n",
    "        #using df['mid_score'] data,\n",
    "        df_scores['accuracy'],\n",
    "        # of width\n",
    "        width, \n",
    "        # with alpha 0.5\n",
    "        alpha=0.5, \n",
    "        # with color\n",
    "        color='#F78F1E', \n",
    "        # with label the second value in first_name\n",
    "        label=df_scores['model_name'][1]) \n",
    "\n",
    "# Create a bar with post_score data,\n",
    "# in position pos + some width buffer,\n",
    "plt.bar([p + width*2 for p in pos], \n",
    "        #using df['post_score'] data,\n",
    "        df_scores['recall'], \n",
    "        # of width\n",
    "        width, \n",
    "        # with alpha 0.5\n",
    "        alpha=0.5, \n",
    "        # with color\n",
    "        color='#FFC222', \n",
    "        # with label the third value in first_name\n",
    "        label=df_scores['model_name'][2]) \n",
    "\n",
    "# Set the y axis label\n",
    "ax.set_ylabel('score')\n",
    "\n",
    "# Set the chart's title\n",
    "ax.set_title('Model Scores')\n",
    "\n",
    "# Set the position of the x ticks\n",
    "ax.set_xticks([p + 1.5 * width for p in pos])\n",
    "\n",
    "# Set the labels for the x ticks\n",
    "ax.set_xticklabels(df_scores['model_name'],rotation = 45, ha=\"right\")\n",
    "\n",
    "# Setting the x-axis and y-axis limits\n",
    "plt.xlim(min(pos)-width, max(pos)+width*4)\n",
    "plt.ylim([0, 1])\n",
    "\n",
    "# Adding the legend and showing the plot\n",
    "plt.legend(['AUROC', 'accuracy', 'recall'], loc='upper left')\n",
    "plt.grid()\n",
    "plt.show()"
   ]
  },
  {
   "cell_type": "markdown",
   "metadata": {},
   "source": [
    "This is so pretty. I'm leaving it and copying the code again to do the colors."
   ]
  },
  {
   "cell_type": "code",
   "execution_count": 497,
   "metadata": {},
   "outputs": [
    {
     "data": {
      "image/png": "[encoded data removed]",
      "text/plain": [
       "<matplotlib.figure.Figure at 0x11ed81b90>"
      ]
     },
     "metadata": {},
     "output_type": "display_data"
    }
   ],
   "source": [
    "## h/t Chris Albon again\n",
    "## https://chrisalbon.com/python/matplotlib_grouped_bar_plot.html\n",
    "\n",
    "# Setting the positions and width for the bars\n",
    "pos = list(range(len(df_scores['AUROC']))) \n",
    "width = 0.25 \n",
    "\n",
    "# Plotting the bars\n",
    "fig, ax = plt.subplots(figsize=(10,5))\n",
    "\n",
    "# Create a bar with pre_score data,\n",
    "# in position pos,\n",
    "plt.bar(pos, \n",
    "        #using df['pre_score'] data,\n",
    "        df_scores['AUROC'], \n",
    "        # of width\n",
    "        width, \n",
    "        # with alpha 0.5\n",
    "        alpha=0.5, \n",
    "        # with color\n",
    "        color='#D3D3D3', \n",
    "        # with label the first value in first_name\n",
    "        label=df_scores['model_name'][0]) \n",
    "\n",
    "# Create a bar with mid_score data,\n",
    "# in position pos + some width buffer,\n",
    "plt.bar([p + width for p in pos], \n",
    "        #using df['mid_score'] data,\n",
    "        df_scores['accuracy'],\n",
    "        # of width\n",
    "        width, \n",
    "        # with alpha 0.5\n",
    "        alpha=0.5, \n",
    "        # with color\n",
    "        color='#C0C0C0', \n",
    "        # with label the second value in first_name\n",
    "        label=df_scores['model_name'][1]) \n",
    "\n",
    "# Create a bar with post_score data,\n",
    "# in position pos + some width buffer,\n",
    "plt.bar([p + width*2 for p in pos], \n",
    "        #using df['post_score'] data,\n",
    "        df_scores['recall'], \n",
    "        # of width\n",
    "        width, \n",
    "        # with alpha 0.5\n",
    "        alpha=0.5, \n",
    "        # with color\n",
    "        color='#FFC222', \n",
    "        # with label the third value in first_name\n",
    "        label=df_scores['model_name'][2]) \n",
    "\n",
    "# Set the y axis label\n",
    "ax.set_ylabel('score')\n",
    "\n",
    "# Set the chart's title\n",
    "ax.set_title('Model Scores')\n",
    "\n",
    "# Set the position of the x ticks\n",
    "ax.set_xticks([p + 1.5 * width for p in pos])\n",
    "\n",
    "# Set the labels for the x ticks\n",
    "ax.set_xticklabels(df_scores['model_name'],rotation = 45, ha=\"right\")\n",
    "\n",
    "# Setting the x-axis and y-axis limits\n",
    "plt.xlim(min(pos)-width, max(pos)+width*4)\n",
    "plt.ylim([0, 1])\n",
    "\n",
    "# Adding the legend and showing the plot\n",
    "plt.legend(['AUROC', 'accuracy', 'recall'], loc='upper left')\n",
    "plt.grid()\n",
    "plt.show()"
   ]
  },
  {
   "cell_type": "markdown",
   "metadata": {},
   "source": [
    "## Conclusions"
   ]
  },
  {
   "cell_type": "markdown",
   "metadata": {},
   "source": [
    "See the presentation deck."
   ]
  }
 ],
 "metadata": {
  "kernelspec": {
   "display_name": "Python 2",
   "language": "python",
   "name": "python2"
  },
  "language_info": {
   "codemirror_mode": {
    "name": "ipython",
    "version": 2
   },
   "file_extension": ".py",
   "mimetype": "text/x-python",
   "name": "python",
   "nbconvert_exporter": "python",
   "pygments_lexer": "ipython2",
   "version": "2.7.13"
  }
 },
 "nbformat": 4,
 "nbformat_minor": 2
}
